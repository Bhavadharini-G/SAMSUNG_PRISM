{
  "nbformat": 4,
  "nbformat_minor": 0,
  "metadata": {
    "colab": {
      "provenance": [],
      "gpuType": "T4"
    },
    "kernelspec": {
      "name": "python3",
      "display_name": "Python 3"
    },
    "language_info": {
      "name": "python"
    },
    "accelerator": "GPU",
    "widgets": {
      "application/vnd.jupyter.widget-state+json": {
        "c6c7477ca5f144c0a5705bf2589259dc": {
          "model_module": "@jupyter-widgets/controls",
          "model_name": "HBoxModel",
          "model_module_version": "1.5.0",
          "state": {
            "_dom_classes": [],
            "_model_module": "@jupyter-widgets/controls",
            "_model_module_version": "1.5.0",
            "_model_name": "HBoxModel",
            "_view_count": null,
            "_view_module": "@jupyter-widgets/controls",
            "_view_module_version": "1.5.0",
            "_view_name": "HBoxView",
            "box_style": "",
            "children": [
              "IPY_MODEL_67556fe3ed494e62b9de9d0d9a52600b",
              "IPY_MODEL_a2356d6741ff478381c29f5175a3852f",
              "IPY_MODEL_fce40ce0452f48a5910e75ac89587ebb"
            ],
            "layout": "IPY_MODEL_d2d2152a4b174500995b32fb1fc25130"
          }
        },
        "67556fe3ed494e62b9de9d0d9a52600b": {
          "model_module": "@jupyter-widgets/controls",
          "model_name": "HTMLModel",
          "model_module_version": "1.5.0",
          "state": {
            "_dom_classes": [],
            "_model_module": "@jupyter-widgets/controls",
            "_model_module_version": "1.5.0",
            "_model_name": "HTMLModel",
            "_view_count": null,
            "_view_module": "@jupyter-widgets/controls",
            "_view_module_version": "1.5.0",
            "_view_name": "HTMLView",
            "description": "",
            "description_tooltip": null,
            "layout": "IPY_MODEL_6eb04a916579490aba31374d1e5fe6b1",
            "placeholder": "​",
            "style": "IPY_MODEL_d21b359bec5a4fd9ab3e08876ae40e40",
            "value": "tokenizer_config.json: 100%"
          }
        },
        "a2356d6741ff478381c29f5175a3852f": {
          "model_module": "@jupyter-widgets/controls",
          "model_name": "FloatProgressModel",
          "model_module_version": "1.5.0",
          "state": {
            "_dom_classes": [],
            "_model_module": "@jupyter-widgets/controls",
            "_model_module_version": "1.5.0",
            "_model_name": "FloatProgressModel",
            "_view_count": null,
            "_view_module": "@jupyter-widgets/controls",
            "_view_module_version": "1.5.0",
            "_view_name": "ProgressView",
            "bar_style": "success",
            "description": "",
            "description_tooltip": null,
            "layout": "IPY_MODEL_be16580c258e4e64b92dc33f0d12ebe0",
            "max": 48,
            "min": 0,
            "orientation": "horizontal",
            "style": "IPY_MODEL_a418856bbe754e5ab5598286912f36db",
            "value": 48
          }
        },
        "fce40ce0452f48a5910e75ac89587ebb": {
          "model_module": "@jupyter-widgets/controls",
          "model_name": "HTMLModel",
          "model_module_version": "1.5.0",
          "state": {
            "_dom_classes": [],
            "_model_module": "@jupyter-widgets/controls",
            "_model_module_version": "1.5.0",
            "_model_name": "HTMLModel",
            "_view_count": null,
            "_view_module": "@jupyter-widgets/controls",
            "_view_module_version": "1.5.0",
            "_view_name": "HTMLView",
            "description": "",
            "description_tooltip": null,
            "layout": "IPY_MODEL_f71b9c61f49e4b908c6179e033e81d5e",
            "placeholder": "​",
            "style": "IPY_MODEL_a49a9ab58eb04ac0b5255fed8b578286",
            "value": " 48.0/48.0 [00:00&lt;00:00, 3.01kB/s]"
          }
        },
        "d2d2152a4b174500995b32fb1fc25130": {
          "model_module": "@jupyter-widgets/base",
          "model_name": "LayoutModel",
          "model_module_version": "1.2.0",
          "state": {
            "_model_module": "@jupyter-widgets/base",
            "_model_module_version": "1.2.0",
            "_model_name": "LayoutModel",
            "_view_count": null,
            "_view_module": "@jupyter-widgets/base",
            "_view_module_version": "1.2.0",
            "_view_name": "LayoutView",
            "align_content": null,
            "align_items": null,
            "align_self": null,
            "border": null,
            "bottom": null,
            "display": null,
            "flex": null,
            "flex_flow": null,
            "grid_area": null,
            "grid_auto_columns": null,
            "grid_auto_flow": null,
            "grid_auto_rows": null,
            "grid_column": null,
            "grid_gap": null,
            "grid_row": null,
            "grid_template_areas": null,
            "grid_template_columns": null,
            "grid_template_rows": null,
            "height": null,
            "justify_content": null,
            "justify_items": null,
            "left": null,
            "margin": null,
            "max_height": null,
            "max_width": null,
            "min_height": null,
            "min_width": null,
            "object_fit": null,
            "object_position": null,
            "order": null,
            "overflow": null,
            "overflow_x": null,
            "overflow_y": null,
            "padding": null,
            "right": null,
            "top": null,
            "visibility": null,
            "width": null
          }
        },
        "6eb04a916579490aba31374d1e5fe6b1": {
          "model_module": "@jupyter-widgets/base",
          "model_name": "LayoutModel",
          "model_module_version": "1.2.0",
          "state": {
            "_model_module": "@jupyter-widgets/base",
            "_model_module_version": "1.2.0",
            "_model_name": "LayoutModel",
            "_view_count": null,
            "_view_module": "@jupyter-widgets/base",
            "_view_module_version": "1.2.0",
            "_view_name": "LayoutView",
            "align_content": null,
            "align_items": null,
            "align_self": null,
            "border": null,
            "bottom": null,
            "display": null,
            "flex": null,
            "flex_flow": null,
            "grid_area": null,
            "grid_auto_columns": null,
            "grid_auto_flow": null,
            "grid_auto_rows": null,
            "grid_column": null,
            "grid_gap": null,
            "grid_row": null,
            "grid_template_areas": null,
            "grid_template_columns": null,
            "grid_template_rows": null,
            "height": null,
            "justify_content": null,
            "justify_items": null,
            "left": null,
            "margin": null,
            "max_height": null,
            "max_width": null,
            "min_height": null,
            "min_width": null,
            "object_fit": null,
            "object_position": null,
            "order": null,
            "overflow": null,
            "overflow_x": null,
            "overflow_y": null,
            "padding": null,
            "right": null,
            "top": null,
            "visibility": null,
            "width": null
          }
        },
        "d21b359bec5a4fd9ab3e08876ae40e40": {
          "model_module": "@jupyter-widgets/controls",
          "model_name": "DescriptionStyleModel",
          "model_module_version": "1.5.0",
          "state": {
            "_model_module": "@jupyter-widgets/controls",
            "_model_module_version": "1.5.0",
            "_model_name": "DescriptionStyleModel",
            "_view_count": null,
            "_view_module": "@jupyter-widgets/base",
            "_view_module_version": "1.2.0",
            "_view_name": "StyleView",
            "description_width": ""
          }
        },
        "be16580c258e4e64b92dc33f0d12ebe0": {
          "model_module": "@jupyter-widgets/base",
          "model_name": "LayoutModel",
          "model_module_version": "1.2.0",
          "state": {
            "_model_module": "@jupyter-widgets/base",
            "_model_module_version": "1.2.0",
            "_model_name": "LayoutModel",
            "_view_count": null,
            "_view_module": "@jupyter-widgets/base",
            "_view_module_version": "1.2.0",
            "_view_name": "LayoutView",
            "align_content": null,
            "align_items": null,
            "align_self": null,
            "border": null,
            "bottom": null,
            "display": null,
            "flex": null,
            "flex_flow": null,
            "grid_area": null,
            "grid_auto_columns": null,
            "grid_auto_flow": null,
            "grid_auto_rows": null,
            "grid_column": null,
            "grid_gap": null,
            "grid_row": null,
            "grid_template_areas": null,
            "grid_template_columns": null,
            "grid_template_rows": null,
            "height": null,
            "justify_content": null,
            "justify_items": null,
            "left": null,
            "margin": null,
            "max_height": null,
            "max_width": null,
            "min_height": null,
            "min_width": null,
            "object_fit": null,
            "object_position": null,
            "order": null,
            "overflow": null,
            "overflow_x": null,
            "overflow_y": null,
            "padding": null,
            "right": null,
            "top": null,
            "visibility": null,
            "width": null
          }
        },
        "a418856bbe754e5ab5598286912f36db": {
          "model_module": "@jupyter-widgets/controls",
          "model_name": "ProgressStyleModel",
          "model_module_version": "1.5.0",
          "state": {
            "_model_module": "@jupyter-widgets/controls",
            "_model_module_version": "1.5.0",
            "_model_name": "ProgressStyleModel",
            "_view_count": null,
            "_view_module": "@jupyter-widgets/base",
            "_view_module_version": "1.2.0",
            "_view_name": "StyleView",
            "bar_color": null,
            "description_width": ""
          }
        },
        "f71b9c61f49e4b908c6179e033e81d5e": {
          "model_module": "@jupyter-widgets/base",
          "model_name": "LayoutModel",
          "model_module_version": "1.2.0",
          "state": {
            "_model_module": "@jupyter-widgets/base",
            "_model_module_version": "1.2.0",
            "_model_name": "LayoutModel",
            "_view_count": null,
            "_view_module": "@jupyter-widgets/base",
            "_view_module_version": "1.2.0",
            "_view_name": "LayoutView",
            "align_content": null,
            "align_items": null,
            "align_self": null,
            "border": null,
            "bottom": null,
            "display": null,
            "flex": null,
            "flex_flow": null,
            "grid_area": null,
            "grid_auto_columns": null,
            "grid_auto_flow": null,
            "grid_auto_rows": null,
            "grid_column": null,
            "grid_gap": null,
            "grid_row": null,
            "grid_template_areas": null,
            "grid_template_columns": null,
            "grid_template_rows": null,
            "height": null,
            "justify_content": null,
            "justify_items": null,
            "left": null,
            "margin": null,
            "max_height": null,
            "max_width": null,
            "min_height": null,
            "min_width": null,
            "object_fit": null,
            "object_position": null,
            "order": null,
            "overflow": null,
            "overflow_x": null,
            "overflow_y": null,
            "padding": null,
            "right": null,
            "top": null,
            "visibility": null,
            "width": null
          }
        },
        "a49a9ab58eb04ac0b5255fed8b578286": {
          "model_module": "@jupyter-widgets/controls",
          "model_name": "DescriptionStyleModel",
          "model_module_version": "1.5.0",
          "state": {
            "_model_module": "@jupyter-widgets/controls",
            "_model_module_version": "1.5.0",
            "_model_name": "DescriptionStyleModel",
            "_view_count": null,
            "_view_module": "@jupyter-widgets/base",
            "_view_module_version": "1.2.0",
            "_view_name": "StyleView",
            "description_width": ""
          }
        },
        "d30fcacbb422469c89c08c60b87bff66": {
          "model_module": "@jupyter-widgets/controls",
          "model_name": "HBoxModel",
          "model_module_version": "1.5.0",
          "state": {
            "_dom_classes": [],
            "_model_module": "@jupyter-widgets/controls",
            "_model_module_version": "1.5.0",
            "_model_name": "HBoxModel",
            "_view_count": null,
            "_view_module": "@jupyter-widgets/controls",
            "_view_module_version": "1.5.0",
            "_view_name": "HBoxView",
            "box_style": "",
            "children": [
              "IPY_MODEL_2cc9a62b4e64450c9d77cb9fce5ec1e3",
              "IPY_MODEL_4eec1888da54488dafa304af8c4d2cab",
              "IPY_MODEL_d913267ffda649d0bb6ee6a2c02b87de"
            ],
            "layout": "IPY_MODEL_6488921fc30f4d979dadc08b7e0826cc"
          }
        },
        "2cc9a62b4e64450c9d77cb9fce5ec1e3": {
          "model_module": "@jupyter-widgets/controls",
          "model_name": "HTMLModel",
          "model_module_version": "1.5.0",
          "state": {
            "_dom_classes": [],
            "_model_module": "@jupyter-widgets/controls",
            "_model_module_version": "1.5.0",
            "_model_name": "HTMLModel",
            "_view_count": null,
            "_view_module": "@jupyter-widgets/controls",
            "_view_module_version": "1.5.0",
            "_view_name": "HTMLView",
            "description": "",
            "description_tooltip": null,
            "layout": "IPY_MODEL_a0ae84e4ddf34ad1b83d29f773fb4e50",
            "placeholder": "​",
            "style": "IPY_MODEL_7c80790a93da416797e932d634af9978",
            "value": "vocab.txt: 100%"
          }
        },
        "4eec1888da54488dafa304af8c4d2cab": {
          "model_module": "@jupyter-widgets/controls",
          "model_name": "FloatProgressModel",
          "model_module_version": "1.5.0",
          "state": {
            "_dom_classes": [],
            "_model_module": "@jupyter-widgets/controls",
            "_model_module_version": "1.5.0",
            "_model_name": "FloatProgressModel",
            "_view_count": null,
            "_view_module": "@jupyter-widgets/controls",
            "_view_module_version": "1.5.0",
            "_view_name": "ProgressView",
            "bar_style": "success",
            "description": "",
            "description_tooltip": null,
            "layout": "IPY_MODEL_ae779dbc347e4c39aea78ef0af7fc45a",
            "max": 231508,
            "min": 0,
            "orientation": "horizontal",
            "style": "IPY_MODEL_7d23709b75f24e4b9c26dd2ccf95b8c9",
            "value": 231508
          }
        },
        "d913267ffda649d0bb6ee6a2c02b87de": {
          "model_module": "@jupyter-widgets/controls",
          "model_name": "HTMLModel",
          "model_module_version": "1.5.0",
          "state": {
            "_dom_classes": [],
            "_model_module": "@jupyter-widgets/controls",
            "_model_module_version": "1.5.0",
            "_model_name": "HTMLModel",
            "_view_count": null,
            "_view_module": "@jupyter-widgets/controls",
            "_view_module_version": "1.5.0",
            "_view_name": "HTMLView",
            "description": "",
            "description_tooltip": null,
            "layout": "IPY_MODEL_bb283356c998498e8c76ecffc8fe92fd",
            "placeholder": "​",
            "style": "IPY_MODEL_403b054e37364397af2b3f4d473e779f",
            "value": " 232k/232k [00:00&lt;00:00, 1.85MB/s]"
          }
        },
        "6488921fc30f4d979dadc08b7e0826cc": {
          "model_module": "@jupyter-widgets/base",
          "model_name": "LayoutModel",
          "model_module_version": "1.2.0",
          "state": {
            "_model_module": "@jupyter-widgets/base",
            "_model_module_version": "1.2.0",
            "_model_name": "LayoutModel",
            "_view_count": null,
            "_view_module": "@jupyter-widgets/base",
            "_view_module_version": "1.2.0",
            "_view_name": "LayoutView",
            "align_content": null,
            "align_items": null,
            "align_self": null,
            "border": null,
            "bottom": null,
            "display": null,
            "flex": null,
            "flex_flow": null,
            "grid_area": null,
            "grid_auto_columns": null,
            "grid_auto_flow": null,
            "grid_auto_rows": null,
            "grid_column": null,
            "grid_gap": null,
            "grid_row": null,
            "grid_template_areas": null,
            "grid_template_columns": null,
            "grid_template_rows": null,
            "height": null,
            "justify_content": null,
            "justify_items": null,
            "left": null,
            "margin": null,
            "max_height": null,
            "max_width": null,
            "min_height": null,
            "min_width": null,
            "object_fit": null,
            "object_position": null,
            "order": null,
            "overflow": null,
            "overflow_x": null,
            "overflow_y": null,
            "padding": null,
            "right": null,
            "top": null,
            "visibility": null,
            "width": null
          }
        },
        "a0ae84e4ddf34ad1b83d29f773fb4e50": {
          "model_module": "@jupyter-widgets/base",
          "model_name": "LayoutModel",
          "model_module_version": "1.2.0",
          "state": {
            "_model_module": "@jupyter-widgets/base",
            "_model_module_version": "1.2.0",
            "_model_name": "LayoutModel",
            "_view_count": null,
            "_view_module": "@jupyter-widgets/base",
            "_view_module_version": "1.2.0",
            "_view_name": "LayoutView",
            "align_content": null,
            "align_items": null,
            "align_self": null,
            "border": null,
            "bottom": null,
            "display": null,
            "flex": null,
            "flex_flow": null,
            "grid_area": null,
            "grid_auto_columns": null,
            "grid_auto_flow": null,
            "grid_auto_rows": null,
            "grid_column": null,
            "grid_gap": null,
            "grid_row": null,
            "grid_template_areas": null,
            "grid_template_columns": null,
            "grid_template_rows": null,
            "height": null,
            "justify_content": null,
            "justify_items": null,
            "left": null,
            "margin": null,
            "max_height": null,
            "max_width": null,
            "min_height": null,
            "min_width": null,
            "object_fit": null,
            "object_position": null,
            "order": null,
            "overflow": null,
            "overflow_x": null,
            "overflow_y": null,
            "padding": null,
            "right": null,
            "top": null,
            "visibility": null,
            "width": null
          }
        },
        "7c80790a93da416797e932d634af9978": {
          "model_module": "@jupyter-widgets/controls",
          "model_name": "DescriptionStyleModel",
          "model_module_version": "1.5.0",
          "state": {
            "_model_module": "@jupyter-widgets/controls",
            "_model_module_version": "1.5.0",
            "_model_name": "DescriptionStyleModel",
            "_view_count": null,
            "_view_module": "@jupyter-widgets/base",
            "_view_module_version": "1.2.0",
            "_view_name": "StyleView",
            "description_width": ""
          }
        },
        "ae779dbc347e4c39aea78ef0af7fc45a": {
          "model_module": "@jupyter-widgets/base",
          "model_name": "LayoutModel",
          "model_module_version": "1.2.0",
          "state": {
            "_model_module": "@jupyter-widgets/base",
            "_model_module_version": "1.2.0",
            "_model_name": "LayoutModel",
            "_view_count": null,
            "_view_module": "@jupyter-widgets/base",
            "_view_module_version": "1.2.0",
            "_view_name": "LayoutView",
            "align_content": null,
            "align_items": null,
            "align_self": null,
            "border": null,
            "bottom": null,
            "display": null,
            "flex": null,
            "flex_flow": null,
            "grid_area": null,
            "grid_auto_columns": null,
            "grid_auto_flow": null,
            "grid_auto_rows": null,
            "grid_column": null,
            "grid_gap": null,
            "grid_row": null,
            "grid_template_areas": null,
            "grid_template_columns": null,
            "grid_template_rows": null,
            "height": null,
            "justify_content": null,
            "justify_items": null,
            "left": null,
            "margin": null,
            "max_height": null,
            "max_width": null,
            "min_height": null,
            "min_width": null,
            "object_fit": null,
            "object_position": null,
            "order": null,
            "overflow": null,
            "overflow_x": null,
            "overflow_y": null,
            "padding": null,
            "right": null,
            "top": null,
            "visibility": null,
            "width": null
          }
        },
        "7d23709b75f24e4b9c26dd2ccf95b8c9": {
          "model_module": "@jupyter-widgets/controls",
          "model_name": "ProgressStyleModel",
          "model_module_version": "1.5.0",
          "state": {
            "_model_module": "@jupyter-widgets/controls",
            "_model_module_version": "1.5.0",
            "_model_name": "ProgressStyleModel",
            "_view_count": null,
            "_view_module": "@jupyter-widgets/base",
            "_view_module_version": "1.2.0",
            "_view_name": "StyleView",
            "bar_color": null,
            "description_width": ""
          }
        },
        "bb283356c998498e8c76ecffc8fe92fd": {
          "model_module": "@jupyter-widgets/base",
          "model_name": "LayoutModel",
          "model_module_version": "1.2.0",
          "state": {
            "_model_module": "@jupyter-widgets/base",
            "_model_module_version": "1.2.0",
            "_model_name": "LayoutModel",
            "_view_count": null,
            "_view_module": "@jupyter-widgets/base",
            "_view_module_version": "1.2.0",
            "_view_name": "LayoutView",
            "align_content": null,
            "align_items": null,
            "align_self": null,
            "border": null,
            "bottom": null,
            "display": null,
            "flex": null,
            "flex_flow": null,
            "grid_area": null,
            "grid_auto_columns": null,
            "grid_auto_flow": null,
            "grid_auto_rows": null,
            "grid_column": null,
            "grid_gap": null,
            "grid_row": null,
            "grid_template_areas": null,
            "grid_template_columns": null,
            "grid_template_rows": null,
            "height": null,
            "justify_content": null,
            "justify_items": null,
            "left": null,
            "margin": null,
            "max_height": null,
            "max_width": null,
            "min_height": null,
            "min_width": null,
            "object_fit": null,
            "object_position": null,
            "order": null,
            "overflow": null,
            "overflow_x": null,
            "overflow_y": null,
            "padding": null,
            "right": null,
            "top": null,
            "visibility": null,
            "width": null
          }
        },
        "403b054e37364397af2b3f4d473e779f": {
          "model_module": "@jupyter-widgets/controls",
          "model_name": "DescriptionStyleModel",
          "model_module_version": "1.5.0",
          "state": {
            "_model_module": "@jupyter-widgets/controls",
            "_model_module_version": "1.5.0",
            "_model_name": "DescriptionStyleModel",
            "_view_count": null,
            "_view_module": "@jupyter-widgets/base",
            "_view_module_version": "1.2.0",
            "_view_name": "StyleView",
            "description_width": ""
          }
        },
        "a3c05dcb49bc4ac8accf1299ff95a0e5": {
          "model_module": "@jupyter-widgets/controls",
          "model_name": "HBoxModel",
          "model_module_version": "1.5.0",
          "state": {
            "_dom_classes": [],
            "_model_module": "@jupyter-widgets/controls",
            "_model_module_version": "1.5.0",
            "_model_name": "HBoxModel",
            "_view_count": null,
            "_view_module": "@jupyter-widgets/controls",
            "_view_module_version": "1.5.0",
            "_view_name": "HBoxView",
            "box_style": "",
            "children": [
              "IPY_MODEL_76a54c4b3b2f45cbb33b6882347b9693",
              "IPY_MODEL_36d5d1eecfa541b4a84fd44d75fa6b91",
              "IPY_MODEL_a95b23473c794a85a79b3e75ff979305"
            ],
            "layout": "IPY_MODEL_68a541698a9e4dd6b4d679ca0cdf9fc1"
          }
        },
        "76a54c4b3b2f45cbb33b6882347b9693": {
          "model_module": "@jupyter-widgets/controls",
          "model_name": "HTMLModel",
          "model_module_version": "1.5.0",
          "state": {
            "_dom_classes": [],
            "_model_module": "@jupyter-widgets/controls",
            "_model_module_version": "1.5.0",
            "_model_name": "HTMLModel",
            "_view_count": null,
            "_view_module": "@jupyter-widgets/controls",
            "_view_module_version": "1.5.0",
            "_view_name": "HTMLView",
            "description": "",
            "description_tooltip": null,
            "layout": "IPY_MODEL_545a106a3ec242a6924a62eb3c83b3c7",
            "placeholder": "​",
            "style": "IPY_MODEL_7ac09d32240c40409721cbc8aa7eef5f",
            "value": "tokenizer.json: 100%"
          }
        },
        "36d5d1eecfa541b4a84fd44d75fa6b91": {
          "model_module": "@jupyter-widgets/controls",
          "model_name": "FloatProgressModel",
          "model_module_version": "1.5.0",
          "state": {
            "_dom_classes": [],
            "_model_module": "@jupyter-widgets/controls",
            "_model_module_version": "1.5.0",
            "_model_name": "FloatProgressModel",
            "_view_count": null,
            "_view_module": "@jupyter-widgets/controls",
            "_view_module_version": "1.5.0",
            "_view_name": "ProgressView",
            "bar_style": "success",
            "description": "",
            "description_tooltip": null,
            "layout": "IPY_MODEL_b7da6c1881fc4314846bf16f3101a599",
            "max": 466062,
            "min": 0,
            "orientation": "horizontal",
            "style": "IPY_MODEL_19bf89693fa1478999b15c10a026cdff",
            "value": 466062
          }
        },
        "a95b23473c794a85a79b3e75ff979305": {
          "model_module": "@jupyter-widgets/controls",
          "model_name": "HTMLModel",
          "model_module_version": "1.5.0",
          "state": {
            "_dom_classes": [],
            "_model_module": "@jupyter-widgets/controls",
            "_model_module_version": "1.5.0",
            "_model_name": "HTMLModel",
            "_view_count": null,
            "_view_module": "@jupyter-widgets/controls",
            "_view_module_version": "1.5.0",
            "_view_name": "HTMLView",
            "description": "",
            "description_tooltip": null,
            "layout": "IPY_MODEL_fd4459f839bd46b6b6f3af28312aff51",
            "placeholder": "​",
            "style": "IPY_MODEL_3cad7f095f8e4b56b0be8197393bf52d",
            "value": " 466k/466k [00:00&lt;00:00, 3.54MB/s]"
          }
        },
        "68a541698a9e4dd6b4d679ca0cdf9fc1": {
          "model_module": "@jupyter-widgets/base",
          "model_name": "LayoutModel",
          "model_module_version": "1.2.0",
          "state": {
            "_model_module": "@jupyter-widgets/base",
            "_model_module_version": "1.2.0",
            "_model_name": "LayoutModel",
            "_view_count": null,
            "_view_module": "@jupyter-widgets/base",
            "_view_module_version": "1.2.0",
            "_view_name": "LayoutView",
            "align_content": null,
            "align_items": null,
            "align_self": null,
            "border": null,
            "bottom": null,
            "display": null,
            "flex": null,
            "flex_flow": null,
            "grid_area": null,
            "grid_auto_columns": null,
            "grid_auto_flow": null,
            "grid_auto_rows": null,
            "grid_column": null,
            "grid_gap": null,
            "grid_row": null,
            "grid_template_areas": null,
            "grid_template_columns": null,
            "grid_template_rows": null,
            "height": null,
            "justify_content": null,
            "justify_items": null,
            "left": null,
            "margin": null,
            "max_height": null,
            "max_width": null,
            "min_height": null,
            "min_width": null,
            "object_fit": null,
            "object_position": null,
            "order": null,
            "overflow": null,
            "overflow_x": null,
            "overflow_y": null,
            "padding": null,
            "right": null,
            "top": null,
            "visibility": null,
            "width": null
          }
        },
        "545a106a3ec242a6924a62eb3c83b3c7": {
          "model_module": "@jupyter-widgets/base",
          "model_name": "LayoutModel",
          "model_module_version": "1.2.0",
          "state": {
            "_model_module": "@jupyter-widgets/base",
            "_model_module_version": "1.2.0",
            "_model_name": "LayoutModel",
            "_view_count": null,
            "_view_module": "@jupyter-widgets/base",
            "_view_module_version": "1.2.0",
            "_view_name": "LayoutView",
            "align_content": null,
            "align_items": null,
            "align_self": null,
            "border": null,
            "bottom": null,
            "display": null,
            "flex": null,
            "flex_flow": null,
            "grid_area": null,
            "grid_auto_columns": null,
            "grid_auto_flow": null,
            "grid_auto_rows": null,
            "grid_column": null,
            "grid_gap": null,
            "grid_row": null,
            "grid_template_areas": null,
            "grid_template_columns": null,
            "grid_template_rows": null,
            "height": null,
            "justify_content": null,
            "justify_items": null,
            "left": null,
            "margin": null,
            "max_height": null,
            "max_width": null,
            "min_height": null,
            "min_width": null,
            "object_fit": null,
            "object_position": null,
            "order": null,
            "overflow": null,
            "overflow_x": null,
            "overflow_y": null,
            "padding": null,
            "right": null,
            "top": null,
            "visibility": null,
            "width": null
          }
        },
        "7ac09d32240c40409721cbc8aa7eef5f": {
          "model_module": "@jupyter-widgets/controls",
          "model_name": "DescriptionStyleModel",
          "model_module_version": "1.5.0",
          "state": {
            "_model_module": "@jupyter-widgets/controls",
            "_model_module_version": "1.5.0",
            "_model_name": "DescriptionStyleModel",
            "_view_count": null,
            "_view_module": "@jupyter-widgets/base",
            "_view_module_version": "1.2.0",
            "_view_name": "StyleView",
            "description_width": ""
          }
        },
        "b7da6c1881fc4314846bf16f3101a599": {
          "model_module": "@jupyter-widgets/base",
          "model_name": "LayoutModel",
          "model_module_version": "1.2.0",
          "state": {
            "_model_module": "@jupyter-widgets/base",
            "_model_module_version": "1.2.0",
            "_model_name": "LayoutModel",
            "_view_count": null,
            "_view_module": "@jupyter-widgets/base",
            "_view_module_version": "1.2.0",
            "_view_name": "LayoutView",
            "align_content": null,
            "align_items": null,
            "align_self": null,
            "border": null,
            "bottom": null,
            "display": null,
            "flex": null,
            "flex_flow": null,
            "grid_area": null,
            "grid_auto_columns": null,
            "grid_auto_flow": null,
            "grid_auto_rows": null,
            "grid_column": null,
            "grid_gap": null,
            "grid_row": null,
            "grid_template_areas": null,
            "grid_template_columns": null,
            "grid_template_rows": null,
            "height": null,
            "justify_content": null,
            "justify_items": null,
            "left": null,
            "margin": null,
            "max_height": null,
            "max_width": null,
            "min_height": null,
            "min_width": null,
            "object_fit": null,
            "object_position": null,
            "order": null,
            "overflow": null,
            "overflow_x": null,
            "overflow_y": null,
            "padding": null,
            "right": null,
            "top": null,
            "visibility": null,
            "width": null
          }
        },
        "19bf89693fa1478999b15c10a026cdff": {
          "model_module": "@jupyter-widgets/controls",
          "model_name": "ProgressStyleModel",
          "model_module_version": "1.5.0",
          "state": {
            "_model_module": "@jupyter-widgets/controls",
            "_model_module_version": "1.5.0",
            "_model_name": "ProgressStyleModel",
            "_view_count": null,
            "_view_module": "@jupyter-widgets/base",
            "_view_module_version": "1.2.0",
            "_view_name": "StyleView",
            "bar_color": null,
            "description_width": ""
          }
        },
        "fd4459f839bd46b6b6f3af28312aff51": {
          "model_module": "@jupyter-widgets/base",
          "model_name": "LayoutModel",
          "model_module_version": "1.2.0",
          "state": {
            "_model_module": "@jupyter-widgets/base",
            "_model_module_version": "1.2.0",
            "_model_name": "LayoutModel",
            "_view_count": null,
            "_view_module": "@jupyter-widgets/base",
            "_view_module_version": "1.2.0",
            "_view_name": "LayoutView",
            "align_content": null,
            "align_items": null,
            "align_self": null,
            "border": null,
            "bottom": null,
            "display": null,
            "flex": null,
            "flex_flow": null,
            "grid_area": null,
            "grid_auto_columns": null,
            "grid_auto_flow": null,
            "grid_auto_rows": null,
            "grid_column": null,
            "grid_gap": null,
            "grid_row": null,
            "grid_template_areas": null,
            "grid_template_columns": null,
            "grid_template_rows": null,
            "height": null,
            "justify_content": null,
            "justify_items": null,
            "left": null,
            "margin": null,
            "max_height": null,
            "max_width": null,
            "min_height": null,
            "min_width": null,
            "object_fit": null,
            "object_position": null,
            "order": null,
            "overflow": null,
            "overflow_x": null,
            "overflow_y": null,
            "padding": null,
            "right": null,
            "top": null,
            "visibility": null,
            "width": null
          }
        },
        "3cad7f095f8e4b56b0be8197393bf52d": {
          "model_module": "@jupyter-widgets/controls",
          "model_name": "DescriptionStyleModel",
          "model_module_version": "1.5.0",
          "state": {
            "_model_module": "@jupyter-widgets/controls",
            "_model_module_version": "1.5.0",
            "_model_name": "DescriptionStyleModel",
            "_view_count": null,
            "_view_module": "@jupyter-widgets/base",
            "_view_module_version": "1.2.0",
            "_view_name": "StyleView",
            "description_width": ""
          }
        },
        "8ae8713d623d49e4bcef961915ba0fed": {
          "model_module": "@jupyter-widgets/controls",
          "model_name": "HBoxModel",
          "model_module_version": "1.5.0",
          "state": {
            "_dom_classes": [],
            "_model_module": "@jupyter-widgets/controls",
            "_model_module_version": "1.5.0",
            "_model_name": "HBoxModel",
            "_view_count": null,
            "_view_module": "@jupyter-widgets/controls",
            "_view_module_version": "1.5.0",
            "_view_name": "HBoxView",
            "box_style": "",
            "children": [
              "IPY_MODEL_136393d61e2847d6a5ca21d9af1dfc44",
              "IPY_MODEL_abae157a92964c1e9bc48ce44b0d7b7f",
              "IPY_MODEL_c3863783a8594e2e85015f46342db434"
            ],
            "layout": "IPY_MODEL_856e489983064c4b9b8cbcce294630cc"
          }
        },
        "136393d61e2847d6a5ca21d9af1dfc44": {
          "model_module": "@jupyter-widgets/controls",
          "model_name": "HTMLModel",
          "model_module_version": "1.5.0",
          "state": {
            "_dom_classes": [],
            "_model_module": "@jupyter-widgets/controls",
            "_model_module_version": "1.5.0",
            "_model_name": "HTMLModel",
            "_view_count": null,
            "_view_module": "@jupyter-widgets/controls",
            "_view_module_version": "1.5.0",
            "_view_name": "HTMLView",
            "description": "",
            "description_tooltip": null,
            "layout": "IPY_MODEL_2c1b1ba8784d4180ae438421e04ed775",
            "placeholder": "​",
            "style": "IPY_MODEL_d7d2b2eaf3fe47d7876cfaa0f708f2b1",
            "value": "config.json: 100%"
          }
        },
        "abae157a92964c1e9bc48ce44b0d7b7f": {
          "model_module": "@jupyter-widgets/controls",
          "model_name": "FloatProgressModel",
          "model_module_version": "1.5.0",
          "state": {
            "_dom_classes": [],
            "_model_module": "@jupyter-widgets/controls",
            "_model_module_version": "1.5.0",
            "_model_name": "FloatProgressModel",
            "_view_count": null,
            "_view_module": "@jupyter-widgets/controls",
            "_view_module_version": "1.5.0",
            "_view_name": "ProgressView",
            "bar_style": "success",
            "description": "",
            "description_tooltip": null,
            "layout": "IPY_MODEL_92224f87966d4cf1a4b2fd34f9e2f836",
            "max": 483,
            "min": 0,
            "orientation": "horizontal",
            "style": "IPY_MODEL_d410348bbb6d403493472418b8be2f1d",
            "value": 483
          }
        },
        "c3863783a8594e2e85015f46342db434": {
          "model_module": "@jupyter-widgets/controls",
          "model_name": "HTMLModel",
          "model_module_version": "1.5.0",
          "state": {
            "_dom_classes": [],
            "_model_module": "@jupyter-widgets/controls",
            "_model_module_version": "1.5.0",
            "_model_name": "HTMLModel",
            "_view_count": null,
            "_view_module": "@jupyter-widgets/controls",
            "_view_module_version": "1.5.0",
            "_view_name": "HTMLView",
            "description": "",
            "description_tooltip": null,
            "layout": "IPY_MODEL_b7fe0c07dd8a4a44b83fc318982d6bbc",
            "placeholder": "​",
            "style": "IPY_MODEL_5e9098fefef0472d8c533077444b586b",
            "value": " 483/483 [00:00&lt;00:00, 41.6kB/s]"
          }
        },
        "856e489983064c4b9b8cbcce294630cc": {
          "model_module": "@jupyter-widgets/base",
          "model_name": "LayoutModel",
          "model_module_version": "1.2.0",
          "state": {
            "_model_module": "@jupyter-widgets/base",
            "_model_module_version": "1.2.0",
            "_model_name": "LayoutModel",
            "_view_count": null,
            "_view_module": "@jupyter-widgets/base",
            "_view_module_version": "1.2.0",
            "_view_name": "LayoutView",
            "align_content": null,
            "align_items": null,
            "align_self": null,
            "border": null,
            "bottom": null,
            "display": null,
            "flex": null,
            "flex_flow": null,
            "grid_area": null,
            "grid_auto_columns": null,
            "grid_auto_flow": null,
            "grid_auto_rows": null,
            "grid_column": null,
            "grid_gap": null,
            "grid_row": null,
            "grid_template_areas": null,
            "grid_template_columns": null,
            "grid_template_rows": null,
            "height": null,
            "justify_content": null,
            "justify_items": null,
            "left": null,
            "margin": null,
            "max_height": null,
            "max_width": null,
            "min_height": null,
            "min_width": null,
            "object_fit": null,
            "object_position": null,
            "order": null,
            "overflow": null,
            "overflow_x": null,
            "overflow_y": null,
            "padding": null,
            "right": null,
            "top": null,
            "visibility": null,
            "width": null
          }
        },
        "2c1b1ba8784d4180ae438421e04ed775": {
          "model_module": "@jupyter-widgets/base",
          "model_name": "LayoutModel",
          "model_module_version": "1.2.0",
          "state": {
            "_model_module": "@jupyter-widgets/base",
            "_model_module_version": "1.2.0",
            "_model_name": "LayoutModel",
            "_view_count": null,
            "_view_module": "@jupyter-widgets/base",
            "_view_module_version": "1.2.0",
            "_view_name": "LayoutView",
            "align_content": null,
            "align_items": null,
            "align_self": null,
            "border": null,
            "bottom": null,
            "display": null,
            "flex": null,
            "flex_flow": null,
            "grid_area": null,
            "grid_auto_columns": null,
            "grid_auto_flow": null,
            "grid_auto_rows": null,
            "grid_column": null,
            "grid_gap": null,
            "grid_row": null,
            "grid_template_areas": null,
            "grid_template_columns": null,
            "grid_template_rows": null,
            "height": null,
            "justify_content": null,
            "justify_items": null,
            "left": null,
            "margin": null,
            "max_height": null,
            "max_width": null,
            "min_height": null,
            "min_width": null,
            "object_fit": null,
            "object_position": null,
            "order": null,
            "overflow": null,
            "overflow_x": null,
            "overflow_y": null,
            "padding": null,
            "right": null,
            "top": null,
            "visibility": null,
            "width": null
          }
        },
        "d7d2b2eaf3fe47d7876cfaa0f708f2b1": {
          "model_module": "@jupyter-widgets/controls",
          "model_name": "DescriptionStyleModel",
          "model_module_version": "1.5.0",
          "state": {
            "_model_module": "@jupyter-widgets/controls",
            "_model_module_version": "1.5.0",
            "_model_name": "DescriptionStyleModel",
            "_view_count": null,
            "_view_module": "@jupyter-widgets/base",
            "_view_module_version": "1.2.0",
            "_view_name": "StyleView",
            "description_width": ""
          }
        },
        "92224f87966d4cf1a4b2fd34f9e2f836": {
          "model_module": "@jupyter-widgets/base",
          "model_name": "LayoutModel",
          "model_module_version": "1.2.0",
          "state": {
            "_model_module": "@jupyter-widgets/base",
            "_model_module_version": "1.2.0",
            "_model_name": "LayoutModel",
            "_view_count": null,
            "_view_module": "@jupyter-widgets/base",
            "_view_module_version": "1.2.0",
            "_view_name": "LayoutView",
            "align_content": null,
            "align_items": null,
            "align_self": null,
            "border": null,
            "bottom": null,
            "display": null,
            "flex": null,
            "flex_flow": null,
            "grid_area": null,
            "grid_auto_columns": null,
            "grid_auto_flow": null,
            "grid_auto_rows": null,
            "grid_column": null,
            "grid_gap": null,
            "grid_row": null,
            "grid_template_areas": null,
            "grid_template_columns": null,
            "grid_template_rows": null,
            "height": null,
            "justify_content": null,
            "justify_items": null,
            "left": null,
            "margin": null,
            "max_height": null,
            "max_width": null,
            "min_height": null,
            "min_width": null,
            "object_fit": null,
            "object_position": null,
            "order": null,
            "overflow": null,
            "overflow_x": null,
            "overflow_y": null,
            "padding": null,
            "right": null,
            "top": null,
            "visibility": null,
            "width": null
          }
        },
        "d410348bbb6d403493472418b8be2f1d": {
          "model_module": "@jupyter-widgets/controls",
          "model_name": "ProgressStyleModel",
          "model_module_version": "1.5.0",
          "state": {
            "_model_module": "@jupyter-widgets/controls",
            "_model_module_version": "1.5.0",
            "_model_name": "ProgressStyleModel",
            "_view_count": null,
            "_view_module": "@jupyter-widgets/base",
            "_view_module_version": "1.2.0",
            "_view_name": "StyleView",
            "bar_color": null,
            "description_width": ""
          }
        },
        "b7fe0c07dd8a4a44b83fc318982d6bbc": {
          "model_module": "@jupyter-widgets/base",
          "model_name": "LayoutModel",
          "model_module_version": "1.2.0",
          "state": {
            "_model_module": "@jupyter-widgets/base",
            "_model_module_version": "1.2.0",
            "_model_name": "LayoutModel",
            "_view_count": null,
            "_view_module": "@jupyter-widgets/base",
            "_view_module_version": "1.2.0",
            "_view_name": "LayoutView",
            "align_content": null,
            "align_items": null,
            "align_self": null,
            "border": null,
            "bottom": null,
            "display": null,
            "flex": null,
            "flex_flow": null,
            "grid_area": null,
            "grid_auto_columns": null,
            "grid_auto_flow": null,
            "grid_auto_rows": null,
            "grid_column": null,
            "grid_gap": null,
            "grid_row": null,
            "grid_template_areas": null,
            "grid_template_columns": null,
            "grid_template_rows": null,
            "height": null,
            "justify_content": null,
            "justify_items": null,
            "left": null,
            "margin": null,
            "max_height": null,
            "max_width": null,
            "min_height": null,
            "min_width": null,
            "object_fit": null,
            "object_position": null,
            "order": null,
            "overflow": null,
            "overflow_x": null,
            "overflow_y": null,
            "padding": null,
            "right": null,
            "top": null,
            "visibility": null,
            "width": null
          }
        },
        "5e9098fefef0472d8c533077444b586b": {
          "model_module": "@jupyter-widgets/controls",
          "model_name": "DescriptionStyleModel",
          "model_module_version": "1.5.0",
          "state": {
            "_model_module": "@jupyter-widgets/controls",
            "_model_module_version": "1.5.0",
            "_model_name": "DescriptionStyleModel",
            "_view_count": null,
            "_view_module": "@jupyter-widgets/base",
            "_view_module_version": "1.2.0",
            "_view_name": "StyleView",
            "description_width": ""
          }
        },
        "497977de8b574ee9995f97c4f1e894bc": {
          "model_module": "@jupyter-widgets/controls",
          "model_name": "HBoxModel",
          "model_module_version": "1.5.0",
          "state": {
            "_dom_classes": [],
            "_model_module": "@jupyter-widgets/controls",
            "_model_module_version": "1.5.0",
            "_model_name": "HBoxModel",
            "_view_count": null,
            "_view_module": "@jupyter-widgets/controls",
            "_view_module_version": "1.5.0",
            "_view_name": "HBoxView",
            "box_style": "",
            "children": [
              "IPY_MODEL_8c30ab9ca9494d2abd21704f66556aaa",
              "IPY_MODEL_9bfa36a1e6ca4bdc8306ae6db211e03f",
              "IPY_MODEL_ecabb084d955487db46013e98331ab7d"
            ],
            "layout": "IPY_MODEL_7c77170881054f96ac1214dcb3e1f234"
          }
        },
        "8c30ab9ca9494d2abd21704f66556aaa": {
          "model_module": "@jupyter-widgets/controls",
          "model_name": "HTMLModel",
          "model_module_version": "1.5.0",
          "state": {
            "_dom_classes": [],
            "_model_module": "@jupyter-widgets/controls",
            "_model_module_version": "1.5.0",
            "_model_name": "HTMLModel",
            "_view_count": null,
            "_view_module": "@jupyter-widgets/controls",
            "_view_module_version": "1.5.0",
            "_view_name": "HTMLView",
            "description": "",
            "description_tooltip": null,
            "layout": "IPY_MODEL_63bc6060c6d64894982d36d3a5da482c",
            "placeholder": "​",
            "style": "IPY_MODEL_69b97a9b3fe4458babbb4ab78235ee47",
            "value": "model.safetensors: 100%"
          }
        },
        "9bfa36a1e6ca4bdc8306ae6db211e03f": {
          "model_module": "@jupyter-widgets/controls",
          "model_name": "FloatProgressModel",
          "model_module_version": "1.5.0",
          "state": {
            "_dom_classes": [],
            "_model_module": "@jupyter-widgets/controls",
            "_model_module_version": "1.5.0",
            "_model_name": "FloatProgressModel",
            "_view_count": null,
            "_view_module": "@jupyter-widgets/controls",
            "_view_module_version": "1.5.0",
            "_view_name": "ProgressView",
            "bar_style": "success",
            "description": "",
            "description_tooltip": null,
            "layout": "IPY_MODEL_cd6ff5d56c664381b18983c3d785ad4a",
            "max": 267954768,
            "min": 0,
            "orientation": "horizontal",
            "style": "IPY_MODEL_466f5088382240a98ccfa04a6c7e26f2",
            "value": 267954768
          }
        },
        "ecabb084d955487db46013e98331ab7d": {
          "model_module": "@jupyter-widgets/controls",
          "model_name": "HTMLModel",
          "model_module_version": "1.5.0",
          "state": {
            "_dom_classes": [],
            "_model_module": "@jupyter-widgets/controls",
            "_model_module_version": "1.5.0",
            "_model_name": "HTMLModel",
            "_view_count": null,
            "_view_module": "@jupyter-widgets/controls",
            "_view_module_version": "1.5.0",
            "_view_name": "HTMLView",
            "description": "",
            "description_tooltip": null,
            "layout": "IPY_MODEL_34c29ff52c54417dabe162433f34b3d5",
            "placeholder": "​",
            "style": "IPY_MODEL_0da24bf9e8bc4e279f96e5e109869ad5",
            "value": " 268M/268M [00:04&lt;00:00, 48.9MB/s]"
          }
        },
        "7c77170881054f96ac1214dcb3e1f234": {
          "model_module": "@jupyter-widgets/base",
          "model_name": "LayoutModel",
          "model_module_version": "1.2.0",
          "state": {
            "_model_module": "@jupyter-widgets/base",
            "_model_module_version": "1.2.0",
            "_model_name": "LayoutModel",
            "_view_count": null,
            "_view_module": "@jupyter-widgets/base",
            "_view_module_version": "1.2.0",
            "_view_name": "LayoutView",
            "align_content": null,
            "align_items": null,
            "align_self": null,
            "border": null,
            "bottom": null,
            "display": null,
            "flex": null,
            "flex_flow": null,
            "grid_area": null,
            "grid_auto_columns": null,
            "grid_auto_flow": null,
            "grid_auto_rows": null,
            "grid_column": null,
            "grid_gap": null,
            "grid_row": null,
            "grid_template_areas": null,
            "grid_template_columns": null,
            "grid_template_rows": null,
            "height": null,
            "justify_content": null,
            "justify_items": null,
            "left": null,
            "margin": null,
            "max_height": null,
            "max_width": null,
            "min_height": null,
            "min_width": null,
            "object_fit": null,
            "object_position": null,
            "order": null,
            "overflow": null,
            "overflow_x": null,
            "overflow_y": null,
            "padding": null,
            "right": null,
            "top": null,
            "visibility": null,
            "width": null
          }
        },
        "63bc6060c6d64894982d36d3a5da482c": {
          "model_module": "@jupyter-widgets/base",
          "model_name": "LayoutModel",
          "model_module_version": "1.2.0",
          "state": {
            "_model_module": "@jupyter-widgets/base",
            "_model_module_version": "1.2.0",
            "_model_name": "LayoutModel",
            "_view_count": null,
            "_view_module": "@jupyter-widgets/base",
            "_view_module_version": "1.2.0",
            "_view_name": "LayoutView",
            "align_content": null,
            "align_items": null,
            "align_self": null,
            "border": null,
            "bottom": null,
            "display": null,
            "flex": null,
            "flex_flow": null,
            "grid_area": null,
            "grid_auto_columns": null,
            "grid_auto_flow": null,
            "grid_auto_rows": null,
            "grid_column": null,
            "grid_gap": null,
            "grid_row": null,
            "grid_template_areas": null,
            "grid_template_columns": null,
            "grid_template_rows": null,
            "height": null,
            "justify_content": null,
            "justify_items": null,
            "left": null,
            "margin": null,
            "max_height": null,
            "max_width": null,
            "min_height": null,
            "min_width": null,
            "object_fit": null,
            "object_position": null,
            "order": null,
            "overflow": null,
            "overflow_x": null,
            "overflow_y": null,
            "padding": null,
            "right": null,
            "top": null,
            "visibility": null,
            "width": null
          }
        },
        "69b97a9b3fe4458babbb4ab78235ee47": {
          "model_module": "@jupyter-widgets/controls",
          "model_name": "DescriptionStyleModel",
          "model_module_version": "1.5.0",
          "state": {
            "_model_module": "@jupyter-widgets/controls",
            "_model_module_version": "1.5.0",
            "_model_name": "DescriptionStyleModel",
            "_view_count": null,
            "_view_module": "@jupyter-widgets/base",
            "_view_module_version": "1.2.0",
            "_view_name": "StyleView",
            "description_width": ""
          }
        },
        "cd6ff5d56c664381b18983c3d785ad4a": {
          "model_module": "@jupyter-widgets/base",
          "model_name": "LayoutModel",
          "model_module_version": "1.2.0",
          "state": {
            "_model_module": "@jupyter-widgets/base",
            "_model_module_version": "1.2.0",
            "_model_name": "LayoutModel",
            "_view_count": null,
            "_view_module": "@jupyter-widgets/base",
            "_view_module_version": "1.2.0",
            "_view_name": "LayoutView",
            "align_content": null,
            "align_items": null,
            "align_self": null,
            "border": null,
            "bottom": null,
            "display": null,
            "flex": null,
            "flex_flow": null,
            "grid_area": null,
            "grid_auto_columns": null,
            "grid_auto_flow": null,
            "grid_auto_rows": null,
            "grid_column": null,
            "grid_gap": null,
            "grid_row": null,
            "grid_template_areas": null,
            "grid_template_columns": null,
            "grid_template_rows": null,
            "height": null,
            "justify_content": null,
            "justify_items": null,
            "left": null,
            "margin": null,
            "max_height": null,
            "max_width": null,
            "min_height": null,
            "min_width": null,
            "object_fit": null,
            "object_position": null,
            "order": null,
            "overflow": null,
            "overflow_x": null,
            "overflow_y": null,
            "padding": null,
            "right": null,
            "top": null,
            "visibility": null,
            "width": null
          }
        },
        "466f5088382240a98ccfa04a6c7e26f2": {
          "model_module": "@jupyter-widgets/controls",
          "model_name": "ProgressStyleModel",
          "model_module_version": "1.5.0",
          "state": {
            "_model_module": "@jupyter-widgets/controls",
            "_model_module_version": "1.5.0",
            "_model_name": "ProgressStyleModel",
            "_view_count": null,
            "_view_module": "@jupyter-widgets/base",
            "_view_module_version": "1.2.0",
            "_view_name": "StyleView",
            "bar_color": null,
            "description_width": ""
          }
        },
        "34c29ff52c54417dabe162433f34b3d5": {
          "model_module": "@jupyter-widgets/base",
          "model_name": "LayoutModel",
          "model_module_version": "1.2.0",
          "state": {
            "_model_module": "@jupyter-widgets/base",
            "_model_module_version": "1.2.0",
            "_model_name": "LayoutModel",
            "_view_count": null,
            "_view_module": "@jupyter-widgets/base",
            "_view_module_version": "1.2.0",
            "_view_name": "LayoutView",
            "align_content": null,
            "align_items": null,
            "align_self": null,
            "border": null,
            "bottom": null,
            "display": null,
            "flex": null,
            "flex_flow": null,
            "grid_area": null,
            "grid_auto_columns": null,
            "grid_auto_flow": null,
            "grid_auto_rows": null,
            "grid_column": null,
            "grid_gap": null,
            "grid_row": null,
            "grid_template_areas": null,
            "grid_template_columns": null,
            "grid_template_rows": null,
            "height": null,
            "justify_content": null,
            "justify_items": null,
            "left": null,
            "margin": null,
            "max_height": null,
            "max_width": null,
            "min_height": null,
            "min_width": null,
            "object_fit": null,
            "object_position": null,
            "order": null,
            "overflow": null,
            "overflow_x": null,
            "overflow_y": null,
            "padding": null,
            "right": null,
            "top": null,
            "visibility": null,
            "width": null
          }
        },
        "0da24bf9e8bc4e279f96e5e109869ad5": {
          "model_module": "@jupyter-widgets/controls",
          "model_name": "DescriptionStyleModel",
          "model_module_version": "1.5.0",
          "state": {
            "_model_module": "@jupyter-widgets/controls",
            "_model_module_version": "1.5.0",
            "_model_name": "DescriptionStyleModel",
            "_view_count": null,
            "_view_module": "@jupyter-widgets/base",
            "_view_module_version": "1.2.0",
            "_view_name": "StyleView",
            "description_width": ""
          }
        },
        "09874c763c1c49c7a97954172f83fb93": {
          "model_module": "@jupyter-widgets/controls",
          "model_name": "HBoxModel",
          "model_module_version": "1.5.0",
          "state": {
            "_dom_classes": [],
            "_model_module": "@jupyter-widgets/controls",
            "_model_module_version": "1.5.0",
            "_model_name": "HBoxModel",
            "_view_count": null,
            "_view_module": "@jupyter-widgets/controls",
            "_view_module_version": "1.5.0",
            "_view_name": "HBoxView",
            "box_style": "",
            "children": [
              "IPY_MODEL_da446e9014ac4f4e8a5c19ff6b93ebab",
              "IPY_MODEL_4fb849149980446d8d453dd4f8ca770b",
              "IPY_MODEL_2e288d38ac82413b8e50b0d5234997e7"
            ],
            "layout": "IPY_MODEL_6747618ef1304690afbba967cb6d6382"
          }
        },
        "da446e9014ac4f4e8a5c19ff6b93ebab": {
          "model_module": "@jupyter-widgets/controls",
          "model_name": "HTMLModel",
          "model_module_version": "1.5.0",
          "state": {
            "_dom_classes": [],
            "_model_module": "@jupyter-widgets/controls",
            "_model_module_version": "1.5.0",
            "_model_name": "HTMLModel",
            "_view_count": null,
            "_view_module": "@jupyter-widgets/controls",
            "_view_module_version": "1.5.0",
            "_view_name": "HTMLView",
            "description": "",
            "description_tooltip": null,
            "layout": "IPY_MODEL_1c33a16666c84656991df3451e1b8156",
            "placeholder": "​",
            "style": "IPY_MODEL_4bcfa0cc1a504d01a1491af9638cbff5",
            "value": "Map: 100%"
          }
        },
        "4fb849149980446d8d453dd4f8ca770b": {
          "model_module": "@jupyter-widgets/controls",
          "model_name": "FloatProgressModel",
          "model_module_version": "1.5.0",
          "state": {
            "_dom_classes": [],
            "_model_module": "@jupyter-widgets/controls",
            "_model_module_version": "1.5.0",
            "_model_name": "FloatProgressModel",
            "_view_count": null,
            "_view_module": "@jupyter-widgets/controls",
            "_view_module_version": "1.5.0",
            "_view_name": "ProgressView",
            "bar_style": "success",
            "description": "",
            "description_tooltip": null,
            "layout": "IPY_MODEL_f0dfaa2feb044f41ae3ab694cc1a832e",
            "max": 43969,
            "min": 0,
            "orientation": "horizontal",
            "style": "IPY_MODEL_f84249486eae4aa8b617ffd017098c60",
            "value": 43969
          }
        },
        "2e288d38ac82413b8e50b0d5234997e7": {
          "model_module": "@jupyter-widgets/controls",
          "model_name": "HTMLModel",
          "model_module_version": "1.5.0",
          "state": {
            "_dom_classes": [],
            "_model_module": "@jupyter-widgets/controls",
            "_model_module_version": "1.5.0",
            "_model_name": "HTMLModel",
            "_view_count": null,
            "_view_module": "@jupyter-widgets/controls",
            "_view_module_version": "1.5.0",
            "_view_name": "HTMLView",
            "description": "",
            "description_tooltip": null,
            "layout": "IPY_MODEL_ec7731720b4c43b7a56c4f79fda6617f",
            "placeholder": "​",
            "style": "IPY_MODEL_3b4359656c174b96b8be08cc4c7fa08a",
            "value": " 43969/43969 [00:28&lt;00:00, 2465.21 examples/s]"
          }
        },
        "6747618ef1304690afbba967cb6d6382": {
          "model_module": "@jupyter-widgets/base",
          "model_name": "LayoutModel",
          "model_module_version": "1.2.0",
          "state": {
            "_model_module": "@jupyter-widgets/base",
            "_model_module_version": "1.2.0",
            "_model_name": "LayoutModel",
            "_view_count": null,
            "_view_module": "@jupyter-widgets/base",
            "_view_module_version": "1.2.0",
            "_view_name": "LayoutView",
            "align_content": null,
            "align_items": null,
            "align_self": null,
            "border": null,
            "bottom": null,
            "display": null,
            "flex": null,
            "flex_flow": null,
            "grid_area": null,
            "grid_auto_columns": null,
            "grid_auto_flow": null,
            "grid_auto_rows": null,
            "grid_column": null,
            "grid_gap": null,
            "grid_row": null,
            "grid_template_areas": null,
            "grid_template_columns": null,
            "grid_template_rows": null,
            "height": null,
            "justify_content": null,
            "justify_items": null,
            "left": null,
            "margin": null,
            "max_height": null,
            "max_width": null,
            "min_height": null,
            "min_width": null,
            "object_fit": null,
            "object_position": null,
            "order": null,
            "overflow": null,
            "overflow_x": null,
            "overflow_y": null,
            "padding": null,
            "right": null,
            "top": null,
            "visibility": null,
            "width": null
          }
        },
        "1c33a16666c84656991df3451e1b8156": {
          "model_module": "@jupyter-widgets/base",
          "model_name": "LayoutModel",
          "model_module_version": "1.2.0",
          "state": {
            "_model_module": "@jupyter-widgets/base",
            "_model_module_version": "1.2.0",
            "_model_name": "LayoutModel",
            "_view_count": null,
            "_view_module": "@jupyter-widgets/base",
            "_view_module_version": "1.2.0",
            "_view_name": "LayoutView",
            "align_content": null,
            "align_items": null,
            "align_self": null,
            "border": null,
            "bottom": null,
            "display": null,
            "flex": null,
            "flex_flow": null,
            "grid_area": null,
            "grid_auto_columns": null,
            "grid_auto_flow": null,
            "grid_auto_rows": null,
            "grid_column": null,
            "grid_gap": null,
            "grid_row": null,
            "grid_template_areas": null,
            "grid_template_columns": null,
            "grid_template_rows": null,
            "height": null,
            "justify_content": null,
            "justify_items": null,
            "left": null,
            "margin": null,
            "max_height": null,
            "max_width": null,
            "min_height": null,
            "min_width": null,
            "object_fit": null,
            "object_position": null,
            "order": null,
            "overflow": null,
            "overflow_x": null,
            "overflow_y": null,
            "padding": null,
            "right": null,
            "top": null,
            "visibility": null,
            "width": null
          }
        },
        "4bcfa0cc1a504d01a1491af9638cbff5": {
          "model_module": "@jupyter-widgets/controls",
          "model_name": "DescriptionStyleModel",
          "model_module_version": "1.5.0",
          "state": {
            "_model_module": "@jupyter-widgets/controls",
            "_model_module_version": "1.5.0",
            "_model_name": "DescriptionStyleModel",
            "_view_count": null,
            "_view_module": "@jupyter-widgets/base",
            "_view_module_version": "1.2.0",
            "_view_name": "StyleView",
            "description_width": ""
          }
        },
        "f0dfaa2feb044f41ae3ab694cc1a832e": {
          "model_module": "@jupyter-widgets/base",
          "model_name": "LayoutModel",
          "model_module_version": "1.2.0",
          "state": {
            "_model_module": "@jupyter-widgets/base",
            "_model_module_version": "1.2.0",
            "_model_name": "LayoutModel",
            "_view_count": null,
            "_view_module": "@jupyter-widgets/base",
            "_view_module_version": "1.2.0",
            "_view_name": "LayoutView",
            "align_content": null,
            "align_items": null,
            "align_self": null,
            "border": null,
            "bottom": null,
            "display": null,
            "flex": null,
            "flex_flow": null,
            "grid_area": null,
            "grid_auto_columns": null,
            "grid_auto_flow": null,
            "grid_auto_rows": null,
            "grid_column": null,
            "grid_gap": null,
            "grid_row": null,
            "grid_template_areas": null,
            "grid_template_columns": null,
            "grid_template_rows": null,
            "height": null,
            "justify_content": null,
            "justify_items": null,
            "left": null,
            "margin": null,
            "max_height": null,
            "max_width": null,
            "min_height": null,
            "min_width": null,
            "object_fit": null,
            "object_position": null,
            "order": null,
            "overflow": null,
            "overflow_x": null,
            "overflow_y": null,
            "padding": null,
            "right": null,
            "top": null,
            "visibility": null,
            "width": null
          }
        },
        "f84249486eae4aa8b617ffd017098c60": {
          "model_module": "@jupyter-widgets/controls",
          "model_name": "ProgressStyleModel",
          "model_module_version": "1.5.0",
          "state": {
            "_model_module": "@jupyter-widgets/controls",
            "_model_module_version": "1.5.0",
            "_model_name": "ProgressStyleModel",
            "_view_count": null,
            "_view_module": "@jupyter-widgets/base",
            "_view_module_version": "1.2.0",
            "_view_name": "StyleView",
            "bar_color": null,
            "description_width": ""
          }
        },
        "ec7731720b4c43b7a56c4f79fda6617f": {
          "model_module": "@jupyter-widgets/base",
          "model_name": "LayoutModel",
          "model_module_version": "1.2.0",
          "state": {
            "_model_module": "@jupyter-widgets/base",
            "_model_module_version": "1.2.0",
            "_model_name": "LayoutModel",
            "_view_count": null,
            "_view_module": "@jupyter-widgets/base",
            "_view_module_version": "1.2.0",
            "_view_name": "LayoutView",
            "align_content": null,
            "align_items": null,
            "align_self": null,
            "border": null,
            "bottom": null,
            "display": null,
            "flex": null,
            "flex_flow": null,
            "grid_area": null,
            "grid_auto_columns": null,
            "grid_auto_flow": null,
            "grid_auto_rows": null,
            "grid_column": null,
            "grid_gap": null,
            "grid_row": null,
            "grid_template_areas": null,
            "grid_template_columns": null,
            "grid_template_rows": null,
            "height": null,
            "justify_content": null,
            "justify_items": null,
            "left": null,
            "margin": null,
            "max_height": null,
            "max_width": null,
            "min_height": null,
            "min_width": null,
            "object_fit": null,
            "object_position": null,
            "order": null,
            "overflow": null,
            "overflow_x": null,
            "overflow_y": null,
            "padding": null,
            "right": null,
            "top": null,
            "visibility": null,
            "width": null
          }
        },
        "3b4359656c174b96b8be08cc4c7fa08a": {
          "model_module": "@jupyter-widgets/controls",
          "model_name": "DescriptionStyleModel",
          "model_module_version": "1.5.0",
          "state": {
            "_model_module": "@jupyter-widgets/controls",
            "_model_module_version": "1.5.0",
            "_model_name": "DescriptionStyleModel",
            "_view_count": null,
            "_view_module": "@jupyter-widgets/base",
            "_view_module_version": "1.2.0",
            "_view_name": "StyleView",
            "description_width": ""
          }
        },
        "45756993e0e04c328bf869f6d1628849": {
          "model_module": "@jupyter-widgets/controls",
          "model_name": "HBoxModel",
          "model_module_version": "1.5.0",
          "state": {
            "_dom_classes": [],
            "_model_module": "@jupyter-widgets/controls",
            "_model_module_version": "1.5.0",
            "_model_name": "HBoxModel",
            "_view_count": null,
            "_view_module": "@jupyter-widgets/controls",
            "_view_module_version": "1.5.0",
            "_view_name": "HBoxView",
            "box_style": "",
            "children": [
              "IPY_MODEL_85fec9bb0eec44678b85aeb8495a2a7e",
              "IPY_MODEL_12450dd2c4bb4542a839067ba61bcec1",
              "IPY_MODEL_f2148e916bf94556ad5e9d759849fc3d"
            ],
            "layout": "IPY_MODEL_24bd40afea4e4c9dbaa7d1a1ae60ec77"
          }
        },
        "85fec9bb0eec44678b85aeb8495a2a7e": {
          "model_module": "@jupyter-widgets/controls",
          "model_name": "HTMLModel",
          "model_module_version": "1.5.0",
          "state": {
            "_dom_classes": [],
            "_model_module": "@jupyter-widgets/controls",
            "_model_module_version": "1.5.0",
            "_model_name": "HTMLModel",
            "_view_count": null,
            "_view_module": "@jupyter-widgets/controls",
            "_view_module_version": "1.5.0",
            "_view_name": "HTMLView",
            "description": "",
            "description_tooltip": null,
            "layout": "IPY_MODEL_8c811169112546ec85ad636ef6f7b3d6",
            "placeholder": "​",
            "style": "IPY_MODEL_a675eb1c65be42a9b495f4ee191081dc",
            "value": "Map: 100%"
          }
        },
        "12450dd2c4bb4542a839067ba61bcec1": {
          "model_module": "@jupyter-widgets/controls",
          "model_name": "FloatProgressModel",
          "model_module_version": "1.5.0",
          "state": {
            "_dom_classes": [],
            "_model_module": "@jupyter-widgets/controls",
            "_model_module_version": "1.5.0",
            "_model_name": "FloatProgressModel",
            "_view_count": null,
            "_view_module": "@jupyter-widgets/controls",
            "_view_module_version": "1.5.0",
            "_view_name": "ProgressView",
            "bar_style": "success",
            "description": "",
            "description_tooltip": null,
            "layout": "IPY_MODEL_8a26197f1a82449f98f9fe71b727dea7",
            "max": 8069,
            "min": 0,
            "orientation": "horizontal",
            "style": "IPY_MODEL_5b0cbf4ed59444a7adb119454932d8e7",
            "value": 8069
          }
        },
        "f2148e916bf94556ad5e9d759849fc3d": {
          "model_module": "@jupyter-widgets/controls",
          "model_name": "HTMLModel",
          "model_module_version": "1.5.0",
          "state": {
            "_dom_classes": [],
            "_model_module": "@jupyter-widgets/controls",
            "_model_module_version": "1.5.0",
            "_model_name": "HTMLModel",
            "_view_count": null,
            "_view_module": "@jupyter-widgets/controls",
            "_view_module_version": "1.5.0",
            "_view_name": "HTMLView",
            "description": "",
            "description_tooltip": null,
            "layout": "IPY_MODEL_f54cdbf7012949b8b122d92cbc09bc70",
            "placeholder": "​",
            "style": "IPY_MODEL_0a935b09bdac4bf3bc9bfc897d9fd2d7",
            "value": " 8069/8069 [00:03&lt;00:00, 2507.07 examples/s]"
          }
        },
        "24bd40afea4e4c9dbaa7d1a1ae60ec77": {
          "model_module": "@jupyter-widgets/base",
          "model_name": "LayoutModel",
          "model_module_version": "1.2.0",
          "state": {
            "_model_module": "@jupyter-widgets/base",
            "_model_module_version": "1.2.0",
            "_model_name": "LayoutModel",
            "_view_count": null,
            "_view_module": "@jupyter-widgets/base",
            "_view_module_version": "1.2.0",
            "_view_name": "LayoutView",
            "align_content": null,
            "align_items": null,
            "align_self": null,
            "border": null,
            "bottom": null,
            "display": null,
            "flex": null,
            "flex_flow": null,
            "grid_area": null,
            "grid_auto_columns": null,
            "grid_auto_flow": null,
            "grid_auto_rows": null,
            "grid_column": null,
            "grid_gap": null,
            "grid_row": null,
            "grid_template_areas": null,
            "grid_template_columns": null,
            "grid_template_rows": null,
            "height": null,
            "justify_content": null,
            "justify_items": null,
            "left": null,
            "margin": null,
            "max_height": null,
            "max_width": null,
            "min_height": null,
            "min_width": null,
            "object_fit": null,
            "object_position": null,
            "order": null,
            "overflow": null,
            "overflow_x": null,
            "overflow_y": null,
            "padding": null,
            "right": null,
            "top": null,
            "visibility": null,
            "width": null
          }
        },
        "8c811169112546ec85ad636ef6f7b3d6": {
          "model_module": "@jupyter-widgets/base",
          "model_name": "LayoutModel",
          "model_module_version": "1.2.0",
          "state": {
            "_model_module": "@jupyter-widgets/base",
            "_model_module_version": "1.2.0",
            "_model_name": "LayoutModel",
            "_view_count": null,
            "_view_module": "@jupyter-widgets/base",
            "_view_module_version": "1.2.0",
            "_view_name": "LayoutView",
            "align_content": null,
            "align_items": null,
            "align_self": null,
            "border": null,
            "bottom": null,
            "display": null,
            "flex": null,
            "flex_flow": null,
            "grid_area": null,
            "grid_auto_columns": null,
            "grid_auto_flow": null,
            "grid_auto_rows": null,
            "grid_column": null,
            "grid_gap": null,
            "grid_row": null,
            "grid_template_areas": null,
            "grid_template_columns": null,
            "grid_template_rows": null,
            "height": null,
            "justify_content": null,
            "justify_items": null,
            "left": null,
            "margin": null,
            "max_height": null,
            "max_width": null,
            "min_height": null,
            "min_width": null,
            "object_fit": null,
            "object_position": null,
            "order": null,
            "overflow": null,
            "overflow_x": null,
            "overflow_y": null,
            "padding": null,
            "right": null,
            "top": null,
            "visibility": null,
            "width": null
          }
        },
        "a675eb1c65be42a9b495f4ee191081dc": {
          "model_module": "@jupyter-widgets/controls",
          "model_name": "DescriptionStyleModel",
          "model_module_version": "1.5.0",
          "state": {
            "_model_module": "@jupyter-widgets/controls",
            "_model_module_version": "1.5.0",
            "_model_name": "DescriptionStyleModel",
            "_view_count": null,
            "_view_module": "@jupyter-widgets/base",
            "_view_module_version": "1.2.0",
            "_view_name": "StyleView",
            "description_width": ""
          }
        },
        "8a26197f1a82449f98f9fe71b727dea7": {
          "model_module": "@jupyter-widgets/base",
          "model_name": "LayoutModel",
          "model_module_version": "1.2.0",
          "state": {
            "_model_module": "@jupyter-widgets/base",
            "_model_module_version": "1.2.0",
            "_model_name": "LayoutModel",
            "_view_count": null,
            "_view_module": "@jupyter-widgets/base",
            "_view_module_version": "1.2.0",
            "_view_name": "LayoutView",
            "align_content": null,
            "align_items": null,
            "align_self": null,
            "border": null,
            "bottom": null,
            "display": null,
            "flex": null,
            "flex_flow": null,
            "grid_area": null,
            "grid_auto_columns": null,
            "grid_auto_flow": null,
            "grid_auto_rows": null,
            "grid_column": null,
            "grid_gap": null,
            "grid_row": null,
            "grid_template_areas": null,
            "grid_template_columns": null,
            "grid_template_rows": null,
            "height": null,
            "justify_content": null,
            "justify_items": null,
            "left": null,
            "margin": null,
            "max_height": null,
            "max_width": null,
            "min_height": null,
            "min_width": null,
            "object_fit": null,
            "object_position": null,
            "order": null,
            "overflow": null,
            "overflow_x": null,
            "overflow_y": null,
            "padding": null,
            "right": null,
            "top": null,
            "visibility": null,
            "width": null
          }
        },
        "5b0cbf4ed59444a7adb119454932d8e7": {
          "model_module": "@jupyter-widgets/controls",
          "model_name": "ProgressStyleModel",
          "model_module_version": "1.5.0",
          "state": {
            "_model_module": "@jupyter-widgets/controls",
            "_model_module_version": "1.5.0",
            "_model_name": "ProgressStyleModel",
            "_view_count": null,
            "_view_module": "@jupyter-widgets/base",
            "_view_module_version": "1.2.0",
            "_view_name": "StyleView",
            "bar_color": null,
            "description_width": ""
          }
        },
        "f54cdbf7012949b8b122d92cbc09bc70": {
          "model_module": "@jupyter-widgets/base",
          "model_name": "LayoutModel",
          "model_module_version": "1.2.0",
          "state": {
            "_model_module": "@jupyter-widgets/base",
            "_model_module_version": "1.2.0",
            "_model_name": "LayoutModel",
            "_view_count": null,
            "_view_module": "@jupyter-widgets/base",
            "_view_module_version": "1.2.0",
            "_view_name": "LayoutView",
            "align_content": null,
            "align_items": null,
            "align_self": null,
            "border": null,
            "bottom": null,
            "display": null,
            "flex": null,
            "flex_flow": null,
            "grid_area": null,
            "grid_auto_columns": null,
            "grid_auto_flow": null,
            "grid_auto_rows": null,
            "grid_column": null,
            "grid_gap": null,
            "grid_row": null,
            "grid_template_areas": null,
            "grid_template_columns": null,
            "grid_template_rows": null,
            "height": null,
            "justify_content": null,
            "justify_items": null,
            "left": null,
            "margin": null,
            "max_height": null,
            "max_width": null,
            "min_height": null,
            "min_width": null,
            "object_fit": null,
            "object_position": null,
            "order": null,
            "overflow": null,
            "overflow_x": null,
            "overflow_y": null,
            "padding": null,
            "right": null,
            "top": null,
            "visibility": null,
            "width": null
          }
        },
        "0a935b09bdac4bf3bc9bfc897d9fd2d7": {
          "model_module": "@jupyter-widgets/controls",
          "model_name": "DescriptionStyleModel",
          "model_module_version": "1.5.0",
          "state": {
            "_model_module": "@jupyter-widgets/controls",
            "_model_module_version": "1.5.0",
            "_model_name": "DescriptionStyleModel",
            "_view_count": null,
            "_view_module": "@jupyter-widgets/base",
            "_view_module_version": "1.2.0",
            "_view_name": "StyleView",
            "description_width": ""
          }
        }
      }
    }
  },
  "cells": [
    {
      "cell_type": "code",
      "execution_count": null,
      "metadata": {
        "colab": {
          "base_uri": "https://localhost:8080/"
        },
        "id": "kq2a3Yay4dCi",
        "outputId": "4865a2e5-d9aa-47e9-d9b5-69d494ed8d8c"
      },
      "outputs": [
        {
          "output_type": "stream",
          "name": "stdout",
          "text": [
            "\u001b[2K   \u001b[90m━━━━━━━━━━━━━━━━━━━━━━━━━━━━━━━━━━━━━━━━\u001b[0m \u001b[32m865.2/865.2 MB\u001b[0m \u001b[31m2.1 MB/s\u001b[0m eta \u001b[36m0:00:00\u001b[0m\n",
            "\u001b[2K   \u001b[90m━━━━━━━━━━━━━━━━━━━━━━━━━━━━━━━━━━━━━━━━\u001b[0m \u001b[32m393.1/393.1 MB\u001b[0m \u001b[31m4.6 MB/s\u001b[0m eta \u001b[36m0:00:00\u001b[0m\n",
            "\u001b[2K   \u001b[90m━━━━━━━━━━━━━━━━━━━━━━━━━━━━━━━━━━━━━━━━\u001b[0m \u001b[32m8.9/8.9 MB\u001b[0m \u001b[31m57.5 MB/s\u001b[0m eta \u001b[36m0:00:00\u001b[0m\n",
            "\u001b[2K   \u001b[90m━━━━━━━━━━━━━━━━━━━━━━━━━━━━━━━━━━━━━━━━\u001b[0m \u001b[32m23.7/23.7 MB\u001b[0m \u001b[31m56.6 MB/s\u001b[0m eta \u001b[36m0:00:00\u001b[0m\n",
            "\u001b[2K   \u001b[90m━━━━━━━━━━━━━━━━━━━━━━━━━━━━━━━━━━━━━━━━\u001b[0m \u001b[32m897.7/897.7 kB\u001b[0m \u001b[31m46.9 MB/s\u001b[0m eta \u001b[36m0:00:00\u001b[0m\n",
            "\u001b[2K   \u001b[90m━━━━━━━━━━━━━━━━━━━━━━━━━━━━━━━━━━━━━━━━\u001b[0m \u001b[32m571.0/571.0 MB\u001b[0m \u001b[31m3.7 MB/s\u001b[0m eta \u001b[36m0:00:00\u001b[0m\n",
            "\u001b[2K   \u001b[90m━━━━━━━━━━━━━━━━━━━━━━━━━━━━━━━━━━━━━━━━\u001b[0m \u001b[32m200.2/200.2 MB\u001b[0m \u001b[31m7.3 MB/s\u001b[0m eta \u001b[36m0:00:00\u001b[0m\n",
            "\u001b[2K   \u001b[90m━━━━━━━━━━━━━━━━━━━━━━━━━━━━━━━━━━━━━━━━\u001b[0m \u001b[32m1.1/1.1 MB\u001b[0m \u001b[31m63.3 MB/s\u001b[0m eta \u001b[36m0:00:00\u001b[0m\n",
            "\u001b[2K   \u001b[90m━━━━━━━━━━━━━━━━━━━━━━━━━━━━━━━━━━━━━━━━\u001b[0m \u001b[32m56.3/56.3 MB\u001b[0m \u001b[31m14.5 MB/s\u001b[0m eta \u001b[36m0:00:00\u001b[0m\n",
            "\u001b[2K   \u001b[90m━━━━━━━━━━━━━━━━━━━━━━━━━━━━━━━━━━━━━━━━\u001b[0m \u001b[32m158.2/158.2 MB\u001b[0m \u001b[31m7.0 MB/s\u001b[0m eta \u001b[36m0:00:00\u001b[0m\n",
            "\u001b[2K   \u001b[90m━━━━━━━━━━━━━━━━━━━━━━━━━━━━━━━━━━━━━━━━\u001b[0m \u001b[32m216.6/216.6 MB\u001b[0m \u001b[31m6.7 MB/s\u001b[0m eta \u001b[36m0:00:00\u001b[0m\n",
            "\u001b[2K   \u001b[90m━━━━━━━━━━━━━━━━━━━━━━━━━━━━━━━━━━━━━━━━\u001b[0m \u001b[32m156.8/156.8 MB\u001b[0m \u001b[31m9.0 MB/s\u001b[0m eta \u001b[36m0:00:00\u001b[0m\n",
            "\u001b[2K   \u001b[90m━━━━━━━━━━━━━━━━━━━━━━━━━━━━━━━━━━━━━━━━\u001b[0m \u001b[32m201.3/201.3 MB\u001b[0m \u001b[31m6.2 MB/s\u001b[0m eta \u001b[36m0:00:00\u001b[0m\n",
            "\u001b[2K   \u001b[90m━━━━━━━━━━━━━━━━━━━━━━━━━━━━━━━━━━━━━━━━\u001b[0m \u001b[32m19.7/19.7 MB\u001b[0m \u001b[31m58.4 MB/s\u001b[0m eta \u001b[36m0:00:00\u001b[0m\n",
            "\u001b[2K   \u001b[90m━━━━━━━━━━━━━━━━━━━━━━━━━━━━━━━━━━━━━━━━\u001b[0m \u001b[32m89.3/89.3 kB\u001b[0m \u001b[31m3.4 MB/s\u001b[0m eta \u001b[36m0:00:00\u001b[0m\n",
            "\u001b[2K   \u001b[90m━━━━━━━━━━━━━━━━━━━━━━━━━━━━━━━━━━━━━━━━\u001b[0m \u001b[32m156.5/156.5 MB\u001b[0m \u001b[31m7.9 MB/s\u001b[0m eta \u001b[36m0:00:00\u001b[0m\n",
            "\u001b[2K   \u001b[90m━━━━━━━━━━━━━━━━━━━━━━━━━━━━━━━━━━━━━━━━\u001b[0m \u001b[32m491.5/491.5 kB\u001b[0m \u001b[31m36.2 MB/s\u001b[0m eta \u001b[36m0:00:00\u001b[0m\n",
            "\u001b[2K   \u001b[90m━━━━━━━━━━━━━━━━━━━━━━━━━━━━━━━━━━━━━━━━\u001b[0m \u001b[32m10.5/10.5 MB\u001b[0m \u001b[31m96.6 MB/s\u001b[0m eta \u001b[36m0:00:00\u001b[0m\n",
            "\u001b[2K   \u001b[90m━━━━━━━━━━━━━━━━━━━━━━━━━━━━━━━━━━━━━━━━\u001b[0m \u001b[32m3.5/3.5 MB\u001b[0m \u001b[31m77.5 MB/s\u001b[0m eta \u001b[36m0:00:00\u001b[0m\n",
            "\u001b[2K   \u001b[90m━━━━━━━━━━━━━━━━━━━━━━━━━━━━━━━━━━━━━━━━\u001b[0m \u001b[32m67.0/67.0 MB\u001b[0m \u001b[31m11.8 MB/s\u001b[0m eta \u001b[36m0:00:00\u001b[0m\n",
            "\u001b[2K   \u001b[90m━━━━━━━━━━━━━━━━━━━━━━━━━━━━━━━━━━━━━━━━\u001b[0m \u001b[32m193.6/193.6 kB\u001b[0m \u001b[31m16.9 MB/s\u001b[0m eta \u001b[36m0:00:00\u001b[0m\n",
            "\u001b[2K   \u001b[90m━━━━━━━━━━━━━━━━━━━━━━━━━━━━━━━━━━━━━━━━\u001b[0m \u001b[32m6.3/6.3 MB\u001b[0m \u001b[31m84.1 MB/s\u001b[0m eta \u001b[36m0:00:00\u001b[0m\n",
            "\u001b[?25h\u001b[31mERROR: pip's dependency resolver does not currently take into account all the packages that are installed. This behaviour is the source of the following dependency conflicts.\n",
            "torchvision 0.21.0+cu124 requires torch==2.6.0, but you have torch 2.7.0 which is incompatible.\n",
            "gcsfs 2025.3.2 requires fsspec==2025.3.2, but you have fsspec 2025.3.0 which is incompatible.\n",
            "fastai 2.7.19 requires torch<2.7,>=1.10, but you have torch 2.7.0 which is incompatible.\u001b[0m\u001b[31m\n",
            "\u001b[0m"
          ]
        }
      ],
      "source": [
        "!pip install --upgrade torch datasets transformers torchaudio scikit-learn bitsandbytes accelerate -q\n",
        "!pip install --upgrade torch datasets transformers torchaudio scikit-learn bitsandbytes accelerate -q\n",
        "\n"
      ]
    },
    {
      "source": [
        "!pip install --upgrade torch torchvision torchaudio datasets transformers scikit-learn bitsandbytes accelerate -q"
      ],
      "cell_type": "code",
      "metadata": {
        "colab": {
          "base_uri": "https://localhost:8080/"
        },
        "id": "T0PE5t9_6D1b",
        "outputId": "9bcd13aa-3491-4b7a-bdea-717fb439ce2e"
      },
      "execution_count": null,
      "outputs": [
        {
          "output_type": "stream",
          "name": "stdout",
          "text": [
            "\u001b[?25l   \u001b[90m━━━━━━━━━━━━━━━━━━━━━━━━━━━━━━━━━━━━━━━━\u001b[0m \u001b[32m0.0/7.4 MB\u001b[0m \u001b[31m?\u001b[0m eta \u001b[36m-:--:--\u001b[0m\r\u001b[2K   \u001b[91m━\u001b[0m\u001b[90m╺\u001b[0m\u001b[90m━━━━━━━━━━━━━━━━━━━━━━━━━━━━━━━━━━━━━━\u001b[0m \u001b[32m0.3/7.4 MB\u001b[0m \u001b[31m8.0 MB/s\u001b[0m eta \u001b[36m0:00:01\u001b[0m\r\u001b[2K   \u001b[91m━━━━━━━━━━━\u001b[0m\u001b[90m╺\u001b[0m\u001b[90m━━━━━━━━━━━━━━━━━━━━━━━━━━━━\u001b[0m \u001b[32m2.1/7.4 MB\u001b[0m \u001b[31m28.0 MB/s\u001b[0m eta \u001b[36m0:00:01\u001b[0m\r\u001b[2K   \u001b[91m━━━━━━━━━━━━━━━━━━━━━━\u001b[0m\u001b[91m╸\u001b[0m\u001b[90m━━━━━━━━━━━━━━━━━\u001b[0m \u001b[32m4.2/7.4 MB\u001b[0m \u001b[31m35.5 MB/s\u001b[0m eta \u001b[36m0:00:01\u001b[0m\r\u001b[2K   \u001b[91m━━━━━━━━━━━━━━━━━━━━━━━━━━━━\u001b[0m\u001b[91m╸\u001b[0m\u001b[90m━━━━━━━━━━━\u001b[0m \u001b[32m5.4/7.4 MB\u001b[0m \u001b[31m39.2 MB/s\u001b[0m eta \u001b[36m0:00:01\u001b[0m\r\u001b[2K   \u001b[91m━━━━━━━━━━━━━━━━━━━━━━━━━━━━━━━━━━━━━━━\u001b[0m\u001b[91m╸\u001b[0m \u001b[32m7.4/7.4 MB\u001b[0m \u001b[31m37.8 MB/s\u001b[0m eta \u001b[36m0:00:01\u001b[0m\r\u001b[2K   \u001b[91m━━━━━━━━━━━━━━━━━━━━━━━━━━━━━━━━━━━━━━━\u001b[0m\u001b[91m╸\u001b[0m \u001b[32m7.4/7.4 MB\u001b[0m \u001b[31m37.8 MB/s\u001b[0m eta \u001b[36m0:00:01\u001b[0m\r\u001b[2K   \u001b[90m━━━━━━━━━━━━━━━━━━━━━━━━━━━━━━━━━━━━━━━━\u001b[0m \u001b[32m7.4/7.4 MB\u001b[0m \u001b[31m29.9 MB/s\u001b[0m eta \u001b[36m0:00:00\u001b[0m\n",
            "\u001b[?25h\u001b[31mERROR: pip's dependency resolver does not currently take into account all the packages that are installed. This behaviour is the source of the following dependency conflicts.\n",
            "fastai 2.7.19 requires torch<2.7,>=1.10, but you have torch 2.7.0 which is incompatible.\u001b[0m\u001b[31m\n",
            "\u001b[0m"
          ]
        }
      ]
    },
    {
      "cell_type": "code",
      "source": [
        "!pip uninstall -y transformers\n",
        "!pip install transformers --upgrade --no-cache-dir\n"
      ],
      "metadata": {
        "colab": {
          "base_uri": "https://localhost:8080/"
        },
        "id": "KypZ477W6lDI",
        "outputId": "7b9a32f4-e542-41fb-ac37-a2599cd2b1a1"
      },
      "execution_count": null,
      "outputs": [
        {
          "output_type": "stream",
          "name": "stdout",
          "text": [
            "Found existing installation: transformers 4.52.4\n",
            "Uninstalling transformers-4.52.4:\n",
            "  Successfully uninstalled transformers-4.52.4\n",
            "Collecting transformers\n",
            "  Downloading transformers-4.52.4-py3-none-any.whl.metadata (38 kB)\n",
            "Requirement already satisfied: filelock in /usr/local/lib/python3.11/dist-packages (from transformers) (3.18.0)\n",
            "Requirement already satisfied: huggingface-hub<1.0,>=0.30.0 in /usr/local/lib/python3.11/dist-packages (from transformers) (0.32.2)\n",
            "Requirement already satisfied: numpy>=1.17 in /usr/local/lib/python3.11/dist-packages (from transformers) (2.0.2)\n",
            "Requirement already satisfied: packaging>=20.0 in /usr/local/lib/python3.11/dist-packages (from transformers) (24.2)\n",
            "Requirement already satisfied: pyyaml>=5.1 in /usr/local/lib/python3.11/dist-packages (from transformers) (6.0.2)\n",
            "Requirement already satisfied: regex!=2019.12.17 in /usr/local/lib/python3.11/dist-packages (from transformers) (2024.11.6)\n",
            "Requirement already satisfied: requests in /usr/local/lib/python3.11/dist-packages (from transformers) (2.32.3)\n",
            "Requirement already satisfied: tokenizers<0.22,>=0.21 in /usr/local/lib/python3.11/dist-packages (from transformers) (0.21.1)\n",
            "Requirement already satisfied: safetensors>=0.4.3 in /usr/local/lib/python3.11/dist-packages (from transformers) (0.5.3)\n",
            "Requirement already satisfied: tqdm>=4.27 in /usr/local/lib/python3.11/dist-packages (from transformers) (4.67.1)\n",
            "Requirement already satisfied: fsspec>=2023.5.0 in /usr/local/lib/python3.11/dist-packages (from huggingface-hub<1.0,>=0.30.0->transformers) (2025.3.0)\n",
            "Requirement already satisfied: typing-extensions>=3.7.4.3 in /usr/local/lib/python3.11/dist-packages (from huggingface-hub<1.0,>=0.30.0->transformers) (4.13.2)\n",
            "Requirement already satisfied: hf-xet<2.0.0,>=1.1.2 in /usr/local/lib/python3.11/dist-packages (from huggingface-hub<1.0,>=0.30.0->transformers) (1.1.2)\n",
            "Requirement already satisfied: charset-normalizer<4,>=2 in /usr/local/lib/python3.11/dist-packages (from requests->transformers) (3.4.2)\n",
            "Requirement already satisfied: idna<4,>=2.5 in /usr/local/lib/python3.11/dist-packages (from requests->transformers) (3.10)\n",
            "Requirement already satisfied: urllib3<3,>=1.21.1 in /usr/local/lib/python3.11/dist-packages (from requests->transformers) (2.4.0)\n",
            "Requirement already satisfied: certifi>=2017.4.17 in /usr/local/lib/python3.11/dist-packages (from requests->transformers) (2025.4.26)\n",
            "Downloading transformers-4.52.4-py3-none-any.whl (10.5 MB)\n",
            "\u001b[2K   \u001b[90m━━━━━━━━━━━━━━━━━━━━━━━━━━━━━━━━━━━━━━━━\u001b[0m \u001b[32m10.5/10.5 MB\u001b[0m \u001b[31m80.0 MB/s\u001b[0m eta \u001b[36m0:00:00\u001b[0m\n",
            "\u001b[?25hInstalling collected packages: transformers\n",
            "Successfully installed transformers-4.52.4\n"
          ]
        }
      ]
    },
    {
      "cell_type": "code",
      "source": [
        "import torch\n",
        "import torch.nn as nn\n",
        "from torch.utils.data import Dataset, DataLoader, TensorDataset, SequentialSampler\n",
        "from torch.cuda.amp import autocast, GradScaler\n",
        "from transformers import (\n",
        "    DistilBertTokenizer, DistilBertForSequenceClassification,\n",
        "    BartTokenizer, BartForSequenceClassification,\n",
        "    AutoTokenizer, AutoModelForCausalLM,\n",
        "    Trainer, TrainingArguments,\n",
        "    Wav2Vec2ForCTC, Wav2Vec2Processor\n",
        ")\n",
        "from datasets import load_dataset, Dataset\n",
        "import numpy as np\n",
        "from sklearn.model_selection import train_test_split\n",
        "from sklearn.metrics import precision_recall_fscore_support\n",
        "import torchaudio\n",
        "import logging\n",
        "print(\"GPU:\", torch.cuda.get_device_name(0) if torch.cuda.is_available() else \"No GPU\")\n"
      ],
      "metadata": {
        "colab": {
          "base_uri": "https://localhost:8080/"
        },
        "id": "jUdv9f5C4jb9",
        "outputId": "3094b3c2-3112-4323-ef15-3ccafe36558a"
      },
      "execution_count": null,
      "outputs": [
        {
          "output_type": "stream",
          "name": "stdout",
          "text": [
            "GPU: Tesla T4\n"
          ]
        }
      ]
    },
    {
      "cell_type": "code",
      "source": [
        "# Set up logging\n",
        "logging.basicConfig(level=logging.INFO)\n",
        "logger = logging.getLogger(__name__)"
      ],
      "metadata": {
        "id": "BFVqhO184kIZ"
      },
      "execution_count": null,
      "outputs": []
    },
    {
      "cell_type": "code",
      "source": [
        "# Cell 3: Load and subsample datasets\n",
        "daily_dialog = load_dataset(\"daily_dialog\")\n",
        "woz_data = load_dataset(\"PolyAI/woz_dialogue\", \"en\")\n",
        "taskmaster_train = woz_data['train']\n"
      ],
      "metadata": {
        "id": "Qj0Cs1t34y_C"
      },
      "execution_count": null,
      "outputs": []
    },
    {
      "cell_type": "code",
      "source": [
        "taskmaster_train[:1]"
      ],
      "metadata": {
        "colab": {
          "base_uri": "https://localhost:8080/"
        },
        "id": "UyQ3p7JY77Xa",
        "outputId": "079fa001-b21f-4d72-e989-43174daa1303"
      },
      "execution_count": null,
      "outputs": [
        {
          "output_type": "execute_result",
          "data": {
            "text/plain": [
              "{'dialogue_idx': [0],\n",
              " 'dialogue': [[{'turn_label': [['food', 'eritrean']],\n",
              "    'asr': [['Are there any eritrean restaurants in town?']],\n",
              "    'system_transcript': '',\n",
              "    'turn_idx': 0,\n",
              "    'belief_state': [{'slots': [['food', 'eritrean']], 'act': 'inform'}],\n",
              "    'transcript': 'Are there any eritrean restaurants in town?',\n",
              "    'system_acts': []},\n",
              "   {'turn_label': [['food', 'chinese']],\n",
              "    'asr': [['How about Chinese food?']],\n",
              "    'system_transcript': 'No, there are no eritrean restaurants in town. Would you like a different restaurant? ',\n",
              "    'turn_idx': 1,\n",
              "    'belief_state': [{'slots': [['food', 'chinese']], 'act': 'inform'}],\n",
              "    'transcript': 'How about Chinese food?',\n",
              "    'system_acts': []},\n",
              "   {'turn_label': [['area', 'east']],\n",
              "    'asr': [['I would like the East part of town.']],\n",
              "    'system_transcript': 'There is a wide variety of Chinese restaurants, do you have an area preference or a price preference to narrow it down?',\n",
              "    'turn_idx': 2,\n",
              "    'belief_state': [{'slots': [['food', 'chinese']], 'act': 'inform'},\n",
              "     {'slots': [['area', 'east']], 'act': 'inform'}],\n",
              "    'transcript': 'I would like the East part of town.',\n",
              "    'system_acts': [['area']]},\n",
              "   {'turn_label': [['request', 'postcode'],\n",
              "     ['request', 'phone'],\n",
              "     ['request', 'address']],\n",
              "    'asr': [['Could I get the address, phone number, and postcode of Yu Garden?']],\n",
              "    'system_transcript': 'Yu Garden is a chinese restaurant in the east area.',\n",
              "    'turn_idx': 3,\n",
              "    'belief_state': [{'slots': [['slot', 'postcode']], 'act': 'request'},\n",
              "     {'slots': [['slot', 'phone']], 'act': 'request'},\n",
              "     {'slots': [['slot', 'address']], 'act': 'request'},\n",
              "     {'slots': [['food', 'chinese']], 'act': 'inform'},\n",
              "     {'slots': [['area', 'east']], 'act': 'inform'}],\n",
              "    'transcript': 'Could I get the address, phone number, and postcode of Yu Garden?',\n",
              "    'system_acts': []},\n",
              "   {'turn_label': [],\n",
              "    'asr': [['Thank you.  That is all the information I needed.  Bye bye!']],\n",
              "    'system_transcript': 'Phone is 01223 248882, address and postcode are 529 Newmarket Road Fen Ditton C.B 5, 8 P.A',\n",
              "    'turn_idx': 4,\n",
              "    'belief_state': [{'slots': [['food', 'chinese']], 'act': 'inform'},\n",
              "     {'slots': [['area', 'east']], 'act': 'inform'}],\n",
              "    'transcript': 'Thank you.  That is all the information I needed.  Bye bye!',\n",
              "    'system_acts': []}]]}"
            ]
          },
          "metadata": {},
          "execution_count": 10
        }
      ]
    },
    {
      "cell_type": "code",
      "source": [
        "print(f\"PolyAI/woz_dialogue train dialogues: {len(taskmaster_train)}\")\n",
        "print(f\"DailyDialog train dialogues: {len(daily_dialog['train'])}\")\n",
        "print(f\"Sample PolyAI/woz_dialogue keys: {list(taskmaster_train[0].keys())}\")\n",
        "print(f\"Sample dialogue first turn: {taskmaster_train[0]['dialogue'][0]}\")"
      ],
      "metadata": {
        "colab": {
          "base_uri": "https://localhost:8080/"
        },
        "id": "BOxOGx8Y7itj",
        "outputId": "bc7a0951-efdd-40cf-f5db-4ee5479a0325"
      },
      "execution_count": null,
      "outputs": [
        {
          "output_type": "stream",
          "name": "stdout",
          "text": [
            "PolyAI/woz_dialogue train dialogues: 600\n",
            "DailyDialog train dialogues: 11118\n",
            "Sample PolyAI/woz_dialogue keys: ['dialogue_idx', 'dialogue']\n",
            "Sample dialogue first turn: {'turn_label': [['food', 'eritrean']], 'asr': [['Are there any eritrean restaurants in town?']], 'system_transcript': '', 'turn_idx': 0, 'belief_state': [{'slots': [['food', 'eritrean']], 'act': 'inform'}], 'transcript': 'Are there any eritrean restaurants in town?', 'system_acts': []}\n"
          ]
        }
      ]
    },
    {
      "cell_type": "code",
      "source": [],
      "metadata": {
        "id": "3FFCZjrzGtTT"
      },
      "execution_count": null,
      "outputs": []
    },
    {
      "cell_type": "code",
      "source": [
        "\n",
        "train_dialogs = daily_dialog['train'].shuffle(seed=42).select(range(int(0.5 * len(daily_dialog['train']))))\n",
        "val_dialogs = daily_dialog['validation']"
      ],
      "metadata": {
        "id": "Z45fZOn94zlP"
      },
      "execution_count": null,
      "outputs": []
    },
    {
      "cell_type": "code",
      "source": [
        "def flatten_dialogues(dataset_split):\n",
        "    utterances, acts, emotions = [], [], []\n",
        "    for dialog in dataset_split:\n",
        "        for utt, act, emo in zip(dialog['dialog'], dialog['act'], dialog['emotion']):\n",
        "            if isinstance(utt, str) and utt.strip():\n",
        "                utterances.append(utt)\n",
        "                acts.append(act - 1)  # Map to 0-based\n",
        "                emotions.append(emo)\n",
        "            else:\n",
        "                logger.warning(f\"Invalid utterance skipped in DailyDialog: {utt}\")\n",
        "    return Dataset.from_dict({'text': utterances, 'label': acts, 'emotion': emotions})\n",
        "\n",
        "train_data = flatten_dialogues(train_dialogs)\n",
        "val_data = flatten_dialogues(val_dialogs)"
      ],
      "metadata": {
        "id": "AP8KtGdj41di"
      },
      "execution_count": null,
      "outputs": []
    },
    {
      "cell_type": "markdown",
      "source": [
        "**Note:**  \n",
        "This implementation uses **BERT** for classification.  \n",
        "Other models such as **Mistral** and **BART** were listed as options but have **not been tried** in this notebook.\n",
        "\n"
      ],
      "metadata": {
        "id": "DttsGXz8OaSH"
      }
    },
    {
      "cell_type": "code",
      "source": [
        "# Cell 5: Train dialogue act classifier (DistilBERT or BART)\n",
        "use_bart = False  # Toggle for BART\n",
        "use_mistral = False  # Toggle for Mistral zero-shot"
      ],
      "metadata": {
        "id": "TNIWIId-44DU"
      },
      "execution_count": null,
      "outputs": []
    },
    {
      "cell_type": "code",
      "source": [
        "if use_mistral:\n",
        "    tokenizer = AutoTokenizer.from_pretrained('mistralai/Mixtral-8x7B-Instruct-v0.1')\n",
        "    model = AutoModelForCausalLM.from_pretrained(\n",
        "        'mistralai/Mixtral-8x7B-Instruct-v0.1',\n",
        "        load_in_4bit=True,\n",
        "        device_map='auto'\n",
        "    )\n",
        "elif use_bart:\n",
        "    tokenizer = BartTokenizer.from_pretrained('facebook/bart-large')\n",
        "    model = BartForSequenceClassification.from_pretrained('facebook/bart-large', num_labels=4)\n",
        "else:\n",
        "    tokenizer = DistilBertTokenizer.from_pretrained('distilbert-base-uncased')\n",
        "    model = DistilBertForSequenceClassification.from_pretrained('distilbert-base-uncased', num_labels=4)"
      ],
      "metadata": {
        "colab": {
          "base_uri": "https://localhost:8080/",
          "height": 232,
          "referenced_widgets": [
            "c6c7477ca5f144c0a5705bf2589259dc",
            "67556fe3ed494e62b9de9d0d9a52600b",
            "a2356d6741ff478381c29f5175a3852f",
            "fce40ce0452f48a5910e75ac89587ebb",
            "d2d2152a4b174500995b32fb1fc25130",
            "6eb04a916579490aba31374d1e5fe6b1",
            "d21b359bec5a4fd9ab3e08876ae40e40",
            "be16580c258e4e64b92dc33f0d12ebe0",
            "a418856bbe754e5ab5598286912f36db",
            "f71b9c61f49e4b908c6179e033e81d5e",
            "a49a9ab58eb04ac0b5255fed8b578286",
            "d30fcacbb422469c89c08c60b87bff66",
            "2cc9a62b4e64450c9d77cb9fce5ec1e3",
            "4eec1888da54488dafa304af8c4d2cab",
            "d913267ffda649d0bb6ee6a2c02b87de",
            "6488921fc30f4d979dadc08b7e0826cc",
            "a0ae84e4ddf34ad1b83d29f773fb4e50",
            "7c80790a93da416797e932d634af9978",
            "ae779dbc347e4c39aea78ef0af7fc45a",
            "7d23709b75f24e4b9c26dd2ccf95b8c9",
            "bb283356c998498e8c76ecffc8fe92fd",
            "403b054e37364397af2b3f4d473e779f",
            "a3c05dcb49bc4ac8accf1299ff95a0e5",
            "76a54c4b3b2f45cbb33b6882347b9693",
            "36d5d1eecfa541b4a84fd44d75fa6b91",
            "a95b23473c794a85a79b3e75ff979305",
            "68a541698a9e4dd6b4d679ca0cdf9fc1",
            "545a106a3ec242a6924a62eb3c83b3c7",
            "7ac09d32240c40409721cbc8aa7eef5f",
            "b7da6c1881fc4314846bf16f3101a599",
            "19bf89693fa1478999b15c10a026cdff",
            "fd4459f839bd46b6b6f3af28312aff51",
            "3cad7f095f8e4b56b0be8197393bf52d",
            "8ae8713d623d49e4bcef961915ba0fed",
            "136393d61e2847d6a5ca21d9af1dfc44",
            "abae157a92964c1e9bc48ce44b0d7b7f",
            "c3863783a8594e2e85015f46342db434",
            "856e489983064c4b9b8cbcce294630cc",
            "2c1b1ba8784d4180ae438421e04ed775",
            "d7d2b2eaf3fe47d7876cfaa0f708f2b1",
            "92224f87966d4cf1a4b2fd34f9e2f836",
            "d410348bbb6d403493472418b8be2f1d",
            "b7fe0c07dd8a4a44b83fc318982d6bbc",
            "5e9098fefef0472d8c533077444b586b",
            "497977de8b574ee9995f97c4f1e894bc",
            "8c30ab9ca9494d2abd21704f66556aaa",
            "9bfa36a1e6ca4bdc8306ae6db211e03f",
            "ecabb084d955487db46013e98331ab7d",
            "7c77170881054f96ac1214dcb3e1f234",
            "63bc6060c6d64894982d36d3a5da482c",
            "69b97a9b3fe4458babbb4ab78235ee47",
            "cd6ff5d56c664381b18983c3d785ad4a",
            "466f5088382240a98ccfa04a6c7e26f2",
            "34c29ff52c54417dabe162433f34b3d5",
            "0da24bf9e8bc4e279f96e5e109869ad5"
          ]
        },
        "id": "xFEXvzNW4942",
        "outputId": "836e06ad-3810-411c-8cea-a7a92a2977c0"
      },
      "execution_count": null,
      "outputs": [
        {
          "output_type": "display_data",
          "data": {
            "text/plain": [
              "tokenizer_config.json:   0%|          | 0.00/48.0 [00:00<?, ?B/s]"
            ],
            "application/vnd.jupyter.widget-view+json": {
              "version_major": 2,
              "version_minor": 0,
              "model_id": "c6c7477ca5f144c0a5705bf2589259dc"
            }
          },
          "metadata": {}
        },
        {
          "output_type": "display_data",
          "data": {
            "text/plain": [
              "vocab.txt:   0%|          | 0.00/232k [00:00<?, ?B/s]"
            ],
            "application/vnd.jupyter.widget-view+json": {
              "version_major": 2,
              "version_minor": 0,
              "model_id": "d30fcacbb422469c89c08c60b87bff66"
            }
          },
          "metadata": {}
        },
        {
          "output_type": "display_data",
          "data": {
            "text/plain": [
              "tokenizer.json:   0%|          | 0.00/466k [00:00<?, ?B/s]"
            ],
            "application/vnd.jupyter.widget-view+json": {
              "version_major": 2,
              "version_minor": 0,
              "model_id": "a3c05dcb49bc4ac8accf1299ff95a0e5"
            }
          },
          "metadata": {}
        },
        {
          "output_type": "display_data",
          "data": {
            "text/plain": [
              "config.json:   0%|          | 0.00/483 [00:00<?, ?B/s]"
            ],
            "application/vnd.jupyter.widget-view+json": {
              "version_major": 2,
              "version_minor": 0,
              "model_id": "8ae8713d623d49e4bcef961915ba0fed"
            }
          },
          "metadata": {}
        },
        {
          "output_type": "display_data",
          "data": {
            "text/plain": [
              "model.safetensors:   0%|          | 0.00/268M [00:00<?, ?B/s]"
            ],
            "application/vnd.jupyter.widget-view+json": {
              "version_major": 2,
              "version_minor": 0,
              "model_id": "497977de8b574ee9995f97c4f1e894bc"
            }
          },
          "metadata": {}
        },
        {
          "output_type": "stream",
          "name": "stderr",
          "text": [
            "Some weights of DistilBertForSequenceClassification were not initialized from the model checkpoint at distilbert-base-uncased and are newly initialized: ['classifier.bias', 'classifier.weight', 'pre_classifier.bias', 'pre_classifier.weight']\n",
            "You should probably TRAIN this model on a down-stream task to be able to use it for predictions and inference.\n"
          ]
        }
      ]
    },
    {
      "cell_type": "code",
      "source": [
        "if not use_mistral:\n",
        "    def tokenize_function(examples):\n",
        "        return tokenizer(examples['text'], padding='max_length', truncation=True)\n",
        "\n",
        "    tokenized_train = train_data.map(tokenize_function, batched=True)\n",
        "    tokenized_val = val_data.map(tokenize_function, batched=True)\n",
        "\n",
        "    training_args = TrainingArguments(\n",
        "        output_dir='./results',\n",
        "        num_train_epochs=3,\n",
        "        per_device_train_batch_size=16 if use_bart else 32,\n",
        "        per_device_eval_batch_size=16 if use_bart else 32,\n",
        "        eval_strategy='epoch',\n",
        "        save_strategy='epoch',\n",
        "        load_best_model_at_end=True,\n",
        "        fp16=True,\n",
        "        gradient_accumulation_steps=4 if use_bart else 2,\n",
        "        learning_rate=2e-5,\n",
        "    )\n",
        "\n",
        "    trainer = Trainer(\n",
        "        model=model,\n",
        "        args=training_args,\n",
        "        train_dataset=tokenized_train,\n",
        "        eval_dataset=tokenized_val,\n",
        "    )\n",
        "\n",
        "\n"
      ],
      "metadata": {
        "colab": {
          "base_uri": "https://localhost:8080/",
          "height": 81,
          "referenced_widgets": [
            "09874c763c1c49c7a97954172f83fb93",
            "da446e9014ac4f4e8a5c19ff6b93ebab",
            "4fb849149980446d8d453dd4f8ca770b",
            "2e288d38ac82413b8e50b0d5234997e7",
            "6747618ef1304690afbba967cb6d6382",
            "1c33a16666c84656991df3451e1b8156",
            "4bcfa0cc1a504d01a1491af9638cbff5",
            "f0dfaa2feb044f41ae3ab694cc1a832e",
            "f84249486eae4aa8b617ffd017098c60",
            "ec7731720b4c43b7a56c4f79fda6617f",
            "3b4359656c174b96b8be08cc4c7fa08a",
            "45756993e0e04c328bf869f6d1628849",
            "85fec9bb0eec44678b85aeb8495a2a7e",
            "12450dd2c4bb4542a839067ba61bcec1",
            "f2148e916bf94556ad5e9d759849fc3d",
            "24bd40afea4e4c9dbaa7d1a1ae60ec77",
            "8c811169112546ec85ad636ef6f7b3d6",
            "a675eb1c65be42a9b495f4ee191081dc",
            "8a26197f1a82449f98f9fe71b727dea7",
            "5b0cbf4ed59444a7adb119454932d8e7",
            "f54cdbf7012949b8b122d92cbc09bc70",
            "0a935b09bdac4bf3bc9bfc897d9fd2d7"
          ]
        },
        "id": "DVeW2Sfp4-Q0",
        "outputId": "8d3a1288-5380-45e0-d9f0-2f7043c063a1"
      },
      "execution_count": null,
      "outputs": [
        {
          "output_type": "display_data",
          "data": {
            "text/plain": [
              "Map:   0%|          | 0/43969 [00:00<?, ? examples/s]"
            ],
            "application/vnd.jupyter.widget-view+json": {
              "version_major": 2,
              "version_minor": 0,
              "model_id": "09874c763c1c49c7a97954172f83fb93"
            }
          },
          "metadata": {}
        },
        {
          "output_type": "display_data",
          "data": {
            "text/plain": [
              "Map:   0%|          | 0/8069 [00:00<?, ? examples/s]"
            ],
            "application/vnd.jupyter.widget-view+json": {
              "version_major": 2,
              "version_minor": 0,
              "model_id": "45756993e0e04c328bf869f6d1628849"
            }
          },
          "metadata": {}
        }
      ]
    },
    {
      "cell_type": "code",
      "source": [
        "trainer.train()\n",
        "model.save_pretrained('./dialog_act_model')\n",
        "tokenizer.save_pretrained('./dialog_act_model')"
      ],
      "metadata": {
        "colab": {
          "base_uri": "https://localhost:8080/",
          "height": 519
        },
        "id": "keZC-sTq5Knc",
        "outputId": "e038de0a-7bbb-4ae4-c467-4bfa9dc75994"
      },
      "execution_count": null,
      "outputs": [
        {
          "output_type": "stream",
          "name": "stderr",
          "text": [
            "\u001b[34m\u001b[1mwandb\u001b[0m: \u001b[33mWARNING\u001b[0m The `run_name` is currently set to the same value as `TrainingArguments.output_dir`. If this was not intended, please specify a different run name by setting the `TrainingArguments.run_name` parameter.\n"
          ]
        },
        {
          "output_type": "display_data",
          "data": {
            "text/plain": [
              "<IPython.core.display.Javascript object>"
            ],
            "application/javascript": [
              "\n",
              "        window._wandbApiKey = new Promise((resolve, reject) => {\n",
              "            function loadScript(url) {\n",
              "            return new Promise(function(resolve, reject) {\n",
              "                let newScript = document.createElement(\"script\");\n",
              "                newScript.onerror = reject;\n",
              "                newScript.onload = resolve;\n",
              "                document.body.appendChild(newScript);\n",
              "                newScript.src = url;\n",
              "            });\n",
              "            }\n",
              "            loadScript(\"https://cdn.jsdelivr.net/npm/postmate/build/postmate.min.js\").then(() => {\n",
              "            const iframe = document.createElement('iframe')\n",
              "            iframe.style.cssText = \"width:0;height:0;border:none\"\n",
              "            document.body.appendChild(iframe)\n",
              "            const handshake = new Postmate({\n",
              "                container: iframe,\n",
              "                url: 'https://wandb.ai/authorize'\n",
              "            });\n",
              "            const timeout = setTimeout(() => reject(\"Couldn't auto authenticate\"), 5000)\n",
              "            handshake.then(function(child) {\n",
              "                child.on('authorize', data => {\n",
              "                    clearTimeout(timeout)\n",
              "                    resolve(data)\n",
              "                });\n",
              "            });\n",
              "            })\n",
              "        });\n",
              "    "
            ]
          },
          "metadata": {}
        },
        {
          "output_type": "stream",
          "name": "stderr",
          "text": [
            "\u001b[34m\u001b[1mwandb\u001b[0m: Logging into wandb.ai. (Learn how to deploy a W&B server locally: https://wandb.me/wandb-server)\n",
            "\u001b[34m\u001b[1mwandb\u001b[0m: You can find your API key in your browser here: https://wandb.ai/authorize?ref=models\n",
            "wandb: Paste an API key from your profile and hit enter:"
          ]
        },
        {
          "name": "stdout",
          "output_type": "stream",
          "text": [
            " ··········\n"
          ]
        },
        {
          "output_type": "stream",
          "name": "stderr",
          "text": [
            "\u001b[34m\u001b[1mwandb\u001b[0m: \u001b[33mWARNING\u001b[0m If you're specifying your api key in code, ensure this code is not shared publicly.\n",
            "\u001b[34m\u001b[1mwandb\u001b[0m: \u001b[33mWARNING\u001b[0m Consider setting the WANDB_API_KEY environment variable, or running `wandb login` from the command line.\n",
            "\u001b[34m\u001b[1mwandb\u001b[0m: No netrc file found, creating one.\n",
            "\u001b[34m\u001b[1mwandb\u001b[0m: Appending key for api.wandb.ai to your netrc file: /root/.netrc\n",
            "\u001b[34m\u001b[1mwandb\u001b[0m: Currently logged in as: \u001b[33mnotifyashishdeepak\u001b[0m (\u001b[33mnotifyashishdeepak-student\u001b[0m) to \u001b[32mhttps://api.wandb.ai\u001b[0m. Use \u001b[1m`wandb login --relogin`\u001b[0m to force relogin\n"
          ]
        },
        {
          "output_type": "display_data",
          "data": {
            "text/plain": [
              "<IPython.core.display.HTML object>"
            ],
            "text/html": [
              "Tracking run with wandb version 0.19.11"
            ]
          },
          "metadata": {}
        },
        {
          "output_type": "display_data",
          "data": {
            "text/plain": [
              "<IPython.core.display.HTML object>"
            ],
            "text/html": [
              "Run data is saved locally in <code>/content/wandb/run-20250604_085209-2dchr5rw</code>"
            ]
          },
          "metadata": {}
        },
        {
          "output_type": "display_data",
          "data": {
            "text/plain": [
              "<IPython.core.display.HTML object>"
            ],
            "text/html": [
              "Syncing run <strong><a href='https://wandb.ai/notifyashishdeepak-student/huggingface/runs/2dchr5rw' target=\"_blank\">./results</a></strong> to <a href='https://wandb.ai/notifyashishdeepak-student/huggingface' target=\"_blank\">Weights & Biases</a> (<a href='https://wandb.me/developer-guide' target=\"_blank\">docs</a>)<br>"
            ]
          },
          "metadata": {}
        },
        {
          "output_type": "display_data",
          "data": {
            "text/plain": [
              "<IPython.core.display.HTML object>"
            ],
            "text/html": [
              " View project at <a href='https://wandb.ai/notifyashishdeepak-student/huggingface' target=\"_blank\">https://wandb.ai/notifyashishdeepak-student/huggingface</a>"
            ]
          },
          "metadata": {}
        },
        {
          "output_type": "display_data",
          "data": {
            "text/plain": [
              "<IPython.core.display.HTML object>"
            ],
            "text/html": [
              " View run at <a href='https://wandb.ai/notifyashishdeepak-student/huggingface/runs/2dchr5rw' target=\"_blank\">https://wandb.ai/notifyashishdeepak-student/huggingface/runs/2dchr5rw</a>"
            ]
          },
          "metadata": {}
        },
        {
          "output_type": "display_data",
          "data": {
            "text/plain": [
              "<IPython.core.display.HTML object>"
            ],
            "text/html": [
              "\n",
              "    <div>\n",
              "      \n",
              "      <progress value='2064' max='2064' style='width:300px; height:20px; vertical-align: middle;'></progress>\n",
              "      [2064/2064 27:34, Epoch 3/3]\n",
              "    </div>\n",
              "    <table border=\"1\" class=\"dataframe\">\n",
              "  <thead>\n",
              " <tr style=\"text-align: left;\">\n",
              "      <th>Epoch</th>\n",
              "      <th>Training Loss</th>\n",
              "      <th>Validation Loss</th>\n",
              "    </tr>\n",
              "  </thead>\n",
              "  <tbody>\n",
              "    <tr>\n",
              "      <td>1</td>\n",
              "      <td>0.588400</td>\n",
              "      <td>0.550758</td>\n",
              "    </tr>\n",
              "    <tr>\n",
              "      <td>2</td>\n",
              "      <td>0.465400</td>\n",
              "      <td>0.544782</td>\n",
              "    </tr>\n",
              "    <tr>\n",
              "      <td>3</td>\n",
              "      <td>0.402600</td>\n",
              "      <td>0.543216</td>\n",
              "    </tr>\n",
              "  </tbody>\n",
              "</table><p>"
            ]
          },
          "metadata": {}
        },
        {
          "output_type": "execute_result",
          "data": {
            "text/plain": [
              "('./dialog_act_model/tokenizer_config.json',\n",
              " './dialog_act_model/special_tokens_map.json',\n",
              " './dialog_act_model/vocab.txt',\n",
              " './dialog_act_model/added_tokens.json')"
            ]
          },
          "metadata": {},
          "execution_count": 38
        }
      ]
    },
    {
      "cell_type": "code",
      "source": [
        "directed_utterances = []\n",
        "for dialogue in taskmaster_train.shuffle(seed=42):\n",
        "    prev_utt = \"\"\n",
        "    for turn in dialogue['dialogue']:\n",
        "        user_text = turn.get('transcript', '')\n",
        "        system_text = turn.get('system_transcript', '')\n",
        "        if isinstance(user_text, str) and user_text.strip():\n",
        "            directed_utterances.append((prev_utt, user_text, 1, 0))\n",
        "        prev_utt = system_text.strip() if system_text.strip() else user_text.strip() or \"\"\n",
        "        if not user_text.strip() and not system_text.strip():\n",
        "            logger.warning(f\"Invalid turn skipped: {turn}\")"
      ],
      "metadata": {
        "id": "7yBWvqCv5Q4t"
      },
      "execution_count": null,
      "outputs": []
    },
    {
      "cell_type": "code",
      "source": [
        "non_directed_utterances = []\n",
        "for dialog in train_dialogs:\n",
        "    prev_utt = \"\"\n",
        "    for utt, emo in zip(dialog['dialog'], dialog['emotion']):\n",
        "        if isinstance(utt, str) and utt.strip():\n",
        "            non_directed_utterances.append((prev_utt, utt, 0, emo))\n",
        "            prev_utt = utt\n",
        "        else:\n",
        "            logger.warning(f\"Invalid utterance skipped in DailyDialog: {utt}\")\n",
        "non_directed_utterances = non_directed_utterances[:len(directed_utterances)]"
      ],
      "metadata": {
        "id": "Jk2pVJ5Z5Sn9"
      },
      "execution_count": null,
      "outputs": []
    },
    {
      "cell_type": "code",
      "source": [
        "all_utterances = directed_utterances + non_directed_utterances\n",
        "texts = [(prev, curr) for prev, curr, _, _ in all_utterances]\n",
        "emotions = [emo for _, _, _, emo in all_utterances]"
      ],
      "metadata": {
        "id": "lQjyPPid5Ui8"
      },
      "execution_count": null,
      "outputs": []
    },
    {
      "cell_type": "code",
      "source": [
        "\n",
        "if not all(isinstance(prev, str) and isinstance(curr, str) and curr.strip() for prev, curr in texts):\n",
        "    raise ValueError(\"All current utterances must be non-empty strings\")"
      ],
      "metadata": {
        "id": "b4k7_cYq5Wz2"
      },
      "execution_count": null,
      "outputs": []
    },
    {
      "cell_type": "code",
      "source": [
        "logger.info(f\"Total utterances: {len(all_utterances)}\")\n",
        "logger.info(f\"Directed utterances: {len(directed_utterances)}\")\n",
        "logger.info(f\"Sample directed utterances: {directed_utterances[:5]}\")\n",
        "logger.info(f\"Non-directed utterances: {len(non_directed_utterances)}\")\n",
        "labels = [label for _, _, label, _ in all_utterances]\n",
        "logger.info(f\"Class distribution: Directed={sum(labels)}/{len(labels)}, Non-directed={len(labels)-sum(labels)}/{len(labels)}\")\n"
      ],
      "metadata": {
        "id": "elgroea-5ZT-"
      },
      "execution_count": null,
      "outputs": []
    },
    {
      "cell_type": "code",
      "source": [
        "print(f\"Total utterances: {len(all_utterances)}\")\n",
        "print(f\"Directed utterances: {len(directed_utterances)}\")\n",
        "print(f\"Sample directed utterances: {directed_utterances[:5]}\")\n",
        "print(f\"Non-directed utterances: {len(non_directed_utterances)}\")\n",
        "labels = [label for _, _, label, _ in all_utterances]\n",
        "print(f\"Class distribution: Directed={sum(labels)}/{len(labels)}, Non-directed={len(labels) - sum(labels)}/{len(labels)}\")\n"
      ],
      "metadata": {
        "colab": {
          "base_uri": "https://localhost:8080/"
        },
        "id": "gDredgpA5pEo",
        "outputId": "de4141f3-36e5-4ed3-e216-9839af07090e"
      },
      "execution_count": null,
      "outputs": [
        {
          "output_type": "stream",
          "name": "stdout",
          "text": [
            "Total utterances: 5072\n",
            "Directed utterances: 2536\n",
            "Sample directed utterances: [('', 'Are there any cheap restaurants in the south part of town? ', 1, 0), ('Are there any cheap restaurants in the south part of town?', 'I do not have a preference. ', 1, 0), ('There are two choices in the South area serving cheap food. Do you prefer Portuguese or Chinese?', 'Please give me the address and phone number for Nandos. ', 1, 0), ('Nandos is the Portuguese place, and The Lucky Star is Chinese.  Would you like more information on one or both of those?', 'No, thank you. Good bye.', 1, 0), ('', 'Looking for a restaurant in the East side of town', 1, 0)]\n",
            "Non-directed utterances: 2536\n",
            "Class distribution: Directed=2536/5072, Non-directed=2536/5072\n"
          ]
        }
      ]
    },
    {
      "cell_type": "code",
      "source": [
        "if not use_mistral:\n",
        "    model = (BartForSequenceClassification if use_bart else DistilBertForSequenceClassification).from_pretrained('./dialog_act_model')\n",
        "    model.eval()\n",
        "    device = torch.device('cuda' if torch.cuda.is_available() else 'cpu')\n",
        "    model.to(device)"
      ],
      "metadata": {
        "id": "_Mjxh4KS5t5F"
      },
      "execution_count": null,
      "outputs": []
    },
    {
      "cell_type": "code",
      "source": [
        "class TextDataset(Dataset):\n",
        "        def __init__(self, texts):\n",
        "            if not isinstance(texts, list):\n",
        "                raise TypeError(\"texts must be a list\")\n",
        "            self.texts = texts\n",
        "\n",
        "        def __len__(self):\n",
        "            return len(self.texts)\n",
        "\n",
        "        def __getitem__(self, idx):\n",
        "            logger.debug(f\"Accessing index: {idx}, type: {type(idx)}\")\n",
        "            if isinstance(idx, list):\n",
        "                return [self.texts[i] for i in idx]\n",
        "            if not isinstance(idx, int):\n",
        "                raise TypeError(\"Index must be an integer\")\n",
        "            return self.texts[idx]\n"
      ],
      "metadata": {
        "id": "dJCzEVgU5yUW"
      },
      "execution_count": null,
      "outputs": []
    },
    {
      "cell_type": "code",
      "source": [
        "  def collate_fn(batch):\n",
        "        if any(isinstance(item, list) for item in batch):\n",
        "            batch = [item for sublist in batch for item in sublist]\n",
        "        batch = [item for item in batch if isinstance(item, tuple) and len(item) == 2 and isinstance(item[1], str) and item[1].strip()]\n",
        "        if not batch:\n",
        "            logger.error(\"Empty batch after filtering\")\n",
        "            return None\n",
        "        combined_texts = [f\"{prev.strip() + ' ' if prev.strip() else ''}[SEP] {curr}\" for prev, curr in batch]\n",
        "        return tokenizer(combined_texts, padding=True, truncation=True, return_tensors='pt')"
      ],
      "metadata": {
        "id": "hDbD1s4R50qb"
      },
      "execution_count": null,
      "outputs": []
    },
    {
      "cell_type": "code",
      "source": [
        "text_dataset = TextDataset(texts)\n",
        "dataloader = DataLoader(\n",
        "        texts,\n",
        "        batch_size=16 if use_bart else 32,\n",
        "        sampler=SequentialSampler(text_dataset),\n",
        "        collate_fn=collate_fn,\n",
        "    )\n"
      ],
      "metadata": {
        "id": "gb9sJRTk52NS"
      },
      "execution_count": null,
      "outputs": []
    },
    {
      "source": [
        "predicted_acts, embeddings = [], []\n",
        "with torch.no_grad():\n",
        "    for batch in dataloader:\n",
        "        if batch is None:\n",
        "            continue\n",
        "        inputs = {k: v.to(device) for k, v in batch.items()}\n",
        "        with autocast():\n",
        "\n",
        "            outputs = model(**inputs, output_hidden_states=True)\n",
        "\n",
        "            if use_bart:\n",
        "                 # For BART, we use the encoder's last hidden state for classification\n",
        "                 cls_embeddings = outputs.encoder_last_hidden_state[:, 0, :]\n",
        "            else:\n",
        "                 # For DistilBERT, we use the last hidden state's CLS token embedding\n",
        "                 cls_embeddings = outputs.hidden_states[-1][:, 0, :]\n",
        "\n",
        "            logits = outputs.logits # Access logits directly from the model output\n",
        "        embeddings.extend(cls_embeddings.cpu().numpy())\n",
        "        preds = torch.argmax(logits, dim=1)\n",
        "        predicted_acts.extend(preds.cpu().numpy())\n",
        "\n",
        "# These lines should be outside the torch.no_grad() block but inside the main script flow\n",
        "if len(embeddings) != len(all_utterances):\n",
        "    # Add more context to the error message if possible\n",
        "    logger.error(f\"Embedding generation failed for some items. Expected {len(all_utterances)}, got {len(embeddings)}\")\n",
        "    # Optionally, inspect the data causing issues or filter them out\n",
        "    # For now, we just raise the error\n",
        "    raise ValueError(f\"Embedding mismatch: got {len(embeddings)}, expected {len(all_utterances)}. Check data and batch processing.\")\n",
        "\n",
        "embeddings = np.array(embeddings)\n",
        "predicted_acts = np.array(predicted_acts)\n",
        "one_hot_acts = np.eye(4)[predicted_acts]\n",
        "one_hot_emotions = np.eye(7)[emotions] # Assuming 'emotions' variable is available and corresponds to all_utterances\n",
        "X = np.concatenate([embeddings, one_hot_acts, one_hot_emotions], axis=1)\n",
        "y = np.array([label for _, _, label, _ in all_utterances]) # Assuming 'labels' are from all_utterances\n",
        "\n",
        "# Continue with the rest of the code for splitting and training\n",
        "X_train, X_test, y_train, y_test = train_test_split(X, y, test_size=0.2, random_state=42)"
      ],
      "cell_type": "code",
      "metadata": {
        "colab": {
          "base_uri": "https://localhost:8080/"
        },
        "id": "vBjzvL9mPlrc",
        "outputId": "89f884b0-28aa-4032-d110-bded880f6175"
      },
      "execution_count": null,
      "outputs": [
        {
          "output_type": "stream",
          "name": "stderr",
          "text": [
            "<ipython-input-54-5e51e97b0937>:7: FutureWarning: `torch.cuda.amp.autocast(args...)` is deprecated. Please use `torch.amp.autocast('cuda', args...)` instead.\n",
            "  with autocast():\n"
          ]
        }
      ]
    },
    {
      "cell_type": "code",
      "source": [
        "if not use_mistral:\n",
        "    class MainClassifier(nn.Module):\n",
        "        def __init__(self, input_dim=768+4+7):\n",
        "            super(MainClassifier, self).__init__()\n",
        "            self.fc1 = nn.Linear(input_dim, 256)\n",
        "            self.relu = nn.ReLU()\n",
        "            self.dropout = nn.Dropout(0.3)\n",
        "            self.fc2 = nn.Linear(256, 128)\n",
        "            self.fc3 = nn.Linear(128, 2)\n",
        "\n",
        "        def forward(self, x):\n",
        "            x = self.fc1(x)\n",
        "            x = self.relu(x)\n",
        "            x = self.dropout(x)\n",
        "            x = self.fc2(x)\n",
        "            x = self.relu(x)\n",
        "            x = self.fc3(x)\n",
        "            return x\n",
        "\n",
        "    main_model = MainClassifier(input_dim=1024+4+7 if use_bart else 768+4+7).to(device)"
      ],
      "metadata": {
        "id": "qH1HDiTdIh0R"
      },
      "execution_count": null,
      "outputs": []
    },
    {
      "source": [
        "from torch.amp import autocast, GradScaler\n",
        "\n",
        "X_train_tensor = torch.tensor(X_train, dtype=torch.float32)\n",
        "y_train_tensor = torch.tensor(y_train, dtype=torch.long)\n",
        "train_dataset = TensorDataset(X_train_tensor, y_train_tensor)\n",
        "train_loader = DataLoader(train_dataset, batch_size=32, shuffle=True)\n",
        "\n",
        "class_weights = torch.tensor(\n",
        "    [1.0, 2.0 * len(y_train) / (sum(y_train) + 1e-6)], dtype=torch.float32\n",
        ").to(device)\n",
        "\n",
        "criterion = nn.CrossEntropyLoss(weight=class_weights)\n",
        "optimizer = torch.optim.Adam(main_model.parameters(), lr=2e-4)\n",
        "scaler = GradScaler()\n",
        "\n",
        "num_epochs = 5\n",
        "for epoch in range(num_epochs):\n",
        "    main_model.train()\n",
        "    for batch in train_loader:\n",
        "        inputs, labels = batch\n",
        "        inputs = inputs.to(device, dtype=torch.float32)\n",
        "        labels = labels.to(device)\n",
        "\n",
        "        optimizer.zero_grad()\n",
        "        with autocast(device_type='cuda'):\n",
        "            outputs = main_model(inputs)\n",
        "            loss = criterion(outputs, labels)\n",
        "        scaler.scale(loss).backward()\n",
        "        scaler.step(optimizer)\n",
        "        scaler.update()\n",
        "\n",
        "    logger.info(f'Epoch {epoch+1}/{num_epochs}, Loss: {loss.item():.4f}')\n"
      ],
      "cell_type": "code",
      "metadata": {
        "id": "AiBnsRHgP6mH"
      },
      "execution_count": null,
      "outputs": []
    },
    {
      "cell_type": "code",
      "source": [
        "# Cell 8: Evaluate main classifier\n",
        "if not use_mistral:\n",
        "    X_test_tensor = torch.tensor(X_test, dtype=torch.float32).to(device)\n",
        "    y_test_tensor = torch.tensor(y_test, dtype=torch.long).to(device)\n",
        "    main_model.eval()\n",
        "    with torch.no_grad():\n",
        "        # Specify the device_type for autocast\n",
        "        with autocast(device_type='cuda'):\n",
        "            outputs = main_model(X_test_tensor)\n",
        "            _, predicted = torch.max(outputs, 1)\n",
        "            accuracy = (predicted == y_test_tensor).sum().item() / len(y_test_tensor)\n",
        "            precision, recall, f1, _ = precision_recall_fscore_support(y_test_tensor.cpu(), predicted.cpu(), average='binary')\n",
        "        logger.info(f'Test Accuracy: {accuracy:.4f}')\n",
        "        logger.info(f'Precision: {precision:.4f}, Recall: {recall:.4f}, F1: {f1:.4f}')"
      ],
      "metadata": {
        "id": "X8P5PkvZIujx"
      },
      "execution_count": null,
      "outputs": []
    },
    {
      "cell_type": "code",
      "source": [
        "def predict_directed(text, prev_text=\"\", use_bart=use_bart, use_mistral=use_mistral):\n",
        "    if not isinstance(text, str) or not text.strip():\n",
        "        raise ValueError(\"Input text must be a non-empty string\")\n",
        "    if not isinstance(prev_text, str):\n",
        "        prev_text = \"\"\n",
        "    if use_mistral:\n",
        "        prompt = (\n",
        "            f\"Previous utterance: {prev_text}\\n\"\n",
        "            f\"Current utterance: {text}\\n\"\n",
        "            f\"Is this utterance directed to an AI (e.g., a command or question like 'Can you tell me the weather?')? \"\n",
        "            f\"Answer 'Yes' or 'No'.\"\n",
        "        )\n",
        "        inputs = tokenizer(prompt, return_tensors='pt', padding=True, truncation=True).to(device)\n",
        "        with torch.no_grad():\n",
        "            outputs = model.generate(**inputs, max_new_tokens=10)\n",
        "        response = tokenizer.decode(outputs[0], skip_special_tokens=True)\n",
        "        logger.debug(f\"Mistral response: {response}\")\n",
        "        return \"Directed\" if \"Yes\" in response else \"Not directed\"\n",
        "    else:\n",
        "        combined_text = f\"{prev_text.strip() + ' ' if prev_text.strip() else ''}[SEP] {text}\"\n",
        "        inputs = tokenizer(combined_text, return_tensors='pt', padding=True, truncation=True).to(device)\n",
        "        with torch.no_grad():\n",
        "            with autocast():\n",
        "                outputs = model(**inputs)\n",
        "                cls_embedding = outputs.encoder_last_hidden_state[:, 0, :] if use_bart else outputs.last_hidden_state[:, 0, :]\n",
        "                logits = model.classifier(cls_embedding)\n",
        "                pred_act = torch.argmax(logits, dim=1).item()\n",
        "        one_hot_act = np.eye(4)[pred_act]\n",
        "        one_hot_emotion = np.eye(7)[0]\n",
        "        feature = np.concatenate([cls_embedding.cpu().numpy(), one_hot_act[None, :], one_hot_emotion[None, :]], axis=1)\n",
        "        feature_tensor = torch.tensor(feature, dtype=torch.float32).to(device)\n",
        "        with torch.no_grad():\n",
        "            with autocast():\n",
        "                output = main_model(feature_tensor)\n",
        "                _, prediction = torch.max(output, 1)\n",
        "        logger.debug(f\"Inference: text='{text}', prev_text='{prev_text}', label={prediction.item()}\")\n",
        "        return \"Directed\" if prediction.item() == 1 else \"Not directed\""
      ],
      "metadata": {
        "id": "3kxuGNh8IxS3"
      },
      "execution_count": null,
      "outputs": []
    },
    {
      "cell_type": "code",
      "source": [
        "def predict_directed(text, prev_text=\"\", use_bart=use_bart, use_mistral=use_mistral):\n",
        "    if not isinstance(text, str) or not text.strip():\n",
        "        raise ValueError(\"Input text must be a non-empty string\")\n",
        "    if not isinstance(prev_text, str):\n",
        "        prev_text = \"\"\n",
        "    if use_mistral:\n",
        "        prompt = (\n",
        "            f\"Previous utterance: {prev_text}\\n\"\n",
        "            f\"Current utterance: {text}\\n\"\n",
        "            f\"Is this utterance directed to an AI (e.g., a command or question like 'Can you tell me the weather?')? \"\n",
        "            f\"Answer 'Yes' or 'No'.\"\n",
        "        )\n",
        "        inputs = tokenizer(prompt, return_tensors='pt', padding=True, truncation=True).to(device)\n",
        "        with torch.no_grad():\n",
        "            outputs = model.generate(**inputs, max_new_tokens=10)\n",
        "        response = tokenizer.decode(outputs[0], skip_special_tokens=True)\n",
        "        logger.debug(f\"Mistral response: {response}\")\n",
        "        return \"Directed\" if \"Yes\" in response else \"Not directed\"\n",
        "    else:\n",
        "        combined_text = f\"{prev_text.strip() + ' ' if prev_text.strip() else ''}[SEP] {text}\"\n",
        "        inputs = tokenizer(combined_text, return_tensors='pt', padding=True, truncation=True).to(device)\n",
        "        with torch.no_grad():\n",
        "            # Add device_type='cuda' to autocast\n",
        "            with autocast(device_type='cuda'):\n",
        "                # Explicitly request hidden states during the forward pass\n",
        "                outputs = model(**inputs, output_hidden_states=True)\n",
        "\n",
        "                # Handle potential differences in output attributes based on model type\n",
        "                # DistilBERT uses 'last_hidden_state', BART uses 'encoder_last_hidden_state'\n",
        "                if use_bart:\n",
        "                     # For BART, we use the encoder's last hidden state for classification\n",
        "                     # Ensure this is the correct attribute based on the specific BARTForSequenceClassification model\n",
        "                     # Sometimes the output object structure can vary slightly\n",
        "                     if hasattr(outputs, 'encoder_last_hidden_state'):\n",
        "                         cls_embedding = outputs.encoder_last_hidden_state[:, 0, :]\n",
        "                     elif hasattr(outputs, 'last_hidden_state'): # Fallback or alternative check\n",
        "                          cls_embedding = outputs.last_hidden_state[:, 0, :]\n",
        "                     else:\n",
        "                          # If neither expected attribute is present, log and raise an error\n",
        "                          logger.error(\"Model output does not have expected hidden state attribute for BART.\")\n",
        "                          logger.debug(f\"Model outputs keys: {outputs.keys()}\")\n",
        "                          raise AttributeError(\"Model output does not have expected hidden state attribute for BART.\")\n",
        "                else:\n",
        "                     # For DistilBERT, we use the last hidden state's CLS token embedding\n",
        "                     # For DistilBERTForSequenceClassification, .hidden_states is a tuple\n",
        "                     # The last element is the output of the last transformer layer\n",
        "                     # The [:, 0, :] indexes the CLS token\n",
        "                     # Check for hidden_states tuple first, then last_hidden_state\n",
        "                     if hasattr(outputs, 'hidden_states') and isinstance(outputs.hidden_states, tuple) and len(outputs.hidden_states) > 0:\n",
        "                         cls_embedding = outputs.hidden_states[-1][:, 0, :]\n",
        "                     elif hasattr(outputs, 'last_hidden_state'): # Alternative check if hidden_states is not directly available\n",
        "                         cls_embedding = outputs.last_hidden_state[:, 0, :]\n",
        "                     else:\n",
        "                         # If neither expected attribute is present, log and raise an error\n",
        "                         logger.error(\"Model output does not have expected hidden state attribute for DistilBERT.\")\n",
        "                         logger.debug(f\"Model outputs keys: {outputs.keys()}\")\n",
        "                         raise AttributeError(\"Model output does not have expected hidden state attribute for DistilBERT.\")\n",
        "\n",
        "\n",
        "                # Ensure the model object has a classifier head when not using Mistral\n",
        "                if not hasattr(model, 'classifier'):\n",
        "                     raise AttributeError(\"Model object does not have a 'classifier' attribute required for prediction.\")\n",
        "                # Use the model's internal classifier with the extracted CLS embedding\n",
        "                logits = model.classifier(cls_embedding)\n",
        "                pred_act = torch.argmax(logits, dim=1).item()\n",
        "\n",
        "        # Ensure emotion is handled correctly. Assuming a default emotion (e.g., 0) if not available.\n",
        "\n",
        "\n",
        "        one_hot_act = np.eye(4)[pred_act]\n",
        "        # Use a default emotion since emotion is not predicted here\n",
        "        # Assuming 0 is a valid default index for emotion\n",
        "        one_hot_emotion = np.eye(7)[0] # Using 7 emotion classes and 0 as default index\n",
        "        feature = np.concatenate([cls_embedding.cpu().numpy(), one_hot_act[None, :], one_hot_emotion[None, :]], axis=1)\n",
        "        feature_tensor = torch.tensor(feature, dtype=torch.float32).to(device)\n",
        "\n",
        "        with torch.no_grad():\n",
        "\n",
        "             with autocast(device_type='cuda'):\n",
        "                 # Ensure main_model exists and is on the correct device\n",
        "                 if 'main_model' not in globals() or main_model is None:\n",
        "                      raise NameError(\"main_model is not defined or loaded.\")\n",
        "                 main_model.eval() # Ensure main_model is in evaluation mode\n",
        "                 output = main_model(feature_tensor)\n",
        "                 _, prediction = torch.max(output, 1)\n",
        "        logger.debug(f\"Inference: text='{text}', prev_text='{prev_text}', label={prediction.item()}\")\n",
        "        return \"Directed\" if prediction.item() == 1 else \"Not directed\""
      ],
      "metadata": {
        "id": "7fe5kurWQu6W"
      },
      "execution_count": null,
      "outputs": []
    },
    {
      "cell_type": "code",
      "source": [
        "examples = [\n",
        "    (\"What's the time?\", \"Can you tell me the weather?\"),\n",
        "    (\"No, there are no eritrean restaurants in town.\", \"How about Chinese food?\"),\n",
        "    (\"\", \"Could I get the address of Yu Garden?\"),\n",
        "]\n",
        "for prev_text, text in examples:\n",
        "    result = predict_directed(text, prev_text)\n",
        "    print(f\"Text: '{text}', Prev: '{prev_text}', Prediction: {result}\")"
      ],
      "metadata": {
        "colab": {
          "base_uri": "https://localhost:8080/"
        },
        "id": "vSyfgH52IzlO",
        "outputId": "8c7b9ee0-d570-40a3-e056-8215ed6bb69d"
      },
      "execution_count": null,
      "outputs": [
        {
          "output_type": "stream",
          "name": "stdout",
          "text": [
            "Text: 'Can you tell me the weather?', Prev: 'What's the time?', Prediction: Directed\n",
            "Text: 'How about Chinese food?', Prev: 'No, there are no eritrean restaurants in town.', Prediction: Directed\n",
            "Text: 'Could I get the address of Yu Garden?', Prev: '', Prediction: Directed\n"
          ]
        }
      ]
    },
    {
      "cell_type": "code",
      "source": [
        "non_directed_examples = [\n",
        "    (\"I'm so tired after work.\", \"Yeah, I just want to relax tonight.\"),  # Casual conversation\n",
        "    (\"Did you watch the game last night?\", \"It was amazing!\"),  # Emotional reaction\n",
        "    (\"The weather’s nice today.\", \"I’m thinking of going for a walk.\"),  # Descriptive statement\n",
        "    (\"\", \"I had a rough day at school.\"),  # Emotional expression, no context\n",
        "    (\"This movie is boring.\", \"I should’ve picked a different one.\"),  # Opinion sharing\n",
        "]\n",
        "for prev_text, text in non_directed_examples:\n",
        "    result = predict_directed(text, prev_text)\n",
        "    print(f\"Text: '{text}', Prev: '{prev_text}', Prediction: {result}\")"
      ],
      "metadata": {
        "colab": {
          "base_uri": "https://localhost:8080/"
        },
        "id": "-uIDc6bEQiqg",
        "outputId": "ce067acf-8268-4184-cfba-8ccb7e203f21"
      },
      "execution_count": null,
      "outputs": [
        {
          "output_type": "stream",
          "name": "stdout",
          "text": [
            "Text: 'Yeah, I just want to relax tonight.', Prev: 'I'm so tired after work.', Prediction: Not directed\n",
            "Text: 'It was amazing!', Prev: 'Did you watch the game last night?', Prediction: Not directed\n",
            "Text: 'I’m thinking of going for a walk.', Prev: 'The weather’s nice today.', Prediction: Not directed\n",
            "Text: 'I had a rough day at school.', Prev: '', Prediction: Not directed\n",
            "Text: 'I should’ve picked a different one.', Prev: 'This movie is boring.', Prediction: Not directed\n"
          ]
        }
      ]
    },
    {
      "cell_type": "code",
      "source": [
        "# prompt: download the trained model\n",
        "\n",
        "import os\n",
        "from google.colab import files\n",
        "\n",
        "# Save the trained main_model\n",
        "main_model_save_path = './main_classifier_model.pth'\n",
        "torch.save(main_model.state_dict(), main_model_save_path)\n",
        "\n",
        "# Save the trained dialog act model (DistilBERT/BART)\n",
        "dialog_act_model_dir = './dialog_act_model'\n",
        "\n",
        "# Package the models into a zip file for easier download\n",
        "!zip -r /content/trained_models.zip {main_model_save_path} {dialog_act_model_dir}\n",
        "\n",
        "# Download the zip file\n",
        "files.download('/content/trained_models.zip')"
      ],
      "metadata": {
        "colab": {
          "base_uri": "https://localhost:8080/",
          "height": 139
        },
        "id": "hepHzeGyRW9S",
        "outputId": "56b79b4f-25ce-4520-86b3-d36461beefe4"
      },
      "execution_count": null,
      "outputs": [
        {
          "output_type": "stream",
          "name": "stdout",
          "text": [
            "  adding: main_classifier_model.pth (deflated 8%)\n",
            "  adding: dialog_act_model/ (stored 0%)\n",
            "  adding: dialog_act_model/model.safetensors (deflated 8%)\n",
            "  adding: dialog_act_model/tokenizer_config.json (deflated 75%)\n",
            "  adding: dialog_act_model/vocab.txt (deflated 53%)\n",
            "  adding: dialog_act_model/special_tokens_map.json (deflated 42%)\n",
            "  adding: dialog_act_model/config.json (deflated 50%)\n"
          ]
        },
        {
          "output_type": "display_data",
          "data": {
            "text/plain": [
              "<IPython.core.display.Javascript object>"
            ],
            "application/javascript": [
              "\n",
              "    async function download(id, filename, size) {\n",
              "      if (!google.colab.kernel.accessAllowed) {\n",
              "        return;\n",
              "      }\n",
              "      const div = document.createElement('div');\n",
              "      const label = document.createElement('label');\n",
              "      label.textContent = `Downloading \"${filename}\": `;\n",
              "      div.appendChild(label);\n",
              "      const progress = document.createElement('progress');\n",
              "      progress.max = size;\n",
              "      div.appendChild(progress);\n",
              "      document.body.appendChild(div);\n",
              "\n",
              "      const buffers = [];\n",
              "      let downloaded = 0;\n",
              "\n",
              "      const channel = await google.colab.kernel.comms.open(id);\n",
              "      // Send a message to notify the kernel that we're ready.\n",
              "      channel.send({})\n",
              "\n",
              "      for await (const message of channel.messages) {\n",
              "        // Send a message to notify the kernel that we're ready.\n",
              "        channel.send({})\n",
              "        if (message.buffers) {\n",
              "          for (const buffer of message.buffers) {\n",
              "            buffers.push(buffer);\n",
              "            downloaded += buffer.byteLength;\n",
              "            progress.value = downloaded;\n",
              "          }\n",
              "        }\n",
              "      }\n",
              "      const blob = new Blob(buffers, {type: 'application/binary'});\n",
              "      const a = document.createElement('a');\n",
              "      a.href = window.URL.createObjectURL(blob);\n",
              "      a.download = filename;\n",
              "      div.appendChild(a);\n",
              "      a.click();\n",
              "      div.remove();\n",
              "    }\n",
              "  "
            ]
          },
          "metadata": {}
        },
        {
          "output_type": "display_data",
          "data": {
            "text/plain": [
              "<IPython.core.display.Javascript object>"
            ],
            "application/javascript": [
              "download(\"download_dca0f614-7535-4400-b31d-f6c0ac933aaf\", \"trained_models.zip\", 247754910)"
            ]
          },
          "metadata": {}
        }
      ]
    },
    {
      "cell_type": "code",
      "source": [
        "text = \"Can you tell me the weather?\"\n",
        "prev_text = \"What's the time?\"\n",
        "print(predict_directed(text, prev_text))\n",
        "text = \"How about Chinese food?\"\n",
        "prev_text = \"No, there are no eritrean restaurants in town.\"\n",
        "print(predict_directed(text, prev_text))"
      ],
      "metadata": {
        "colab": {
          "base_uri": "https://localhost:8080/"
        },
        "id": "nymNwbqESkut",
        "outputId": "439fa94e-e11c-4ec0-a0ed-cf49f5167778"
      },
      "execution_count": null,
      "outputs": [
        {
          "output_type": "stream",
          "name": "stdout",
          "text": [
            "Directed\n",
            "Directed\n"
          ]
        }
      ]
    },
    {
      "cell_type": "markdown",
      "source": [
        "**Note:**  \n",
        "The audio processing component is still being explored.  \n",
        "We are currently experimenting with **Wav2Vec** for speech-to-text and emotion recognition from audio, but it is not fully integrated into the pipeline yet.\n",
        "\n"
      ],
      "metadata": {
        "id": "jkKobG4gPWgh"
      }
    },
    {
      "cell_type": "code",
      "source": [],
      "metadata": {
        "id": "vYsvgPeNPU3f"
      },
      "execution_count": null,
      "outputs": []
    },
    {
      "cell_type": "code",
      "source": [
        "# Cell 10: Inference for audio input\n",
        "processor = Wav2Vec2Processor.from_pretrained(\"facebook/wav2vec2-base-960h\")\n",
        "wav2vec_model = Wav2Vec2ForCTC.from_pretrained(\"facebook/wav2vec2-base-960h\")\n",
        "\n",
        "def transcribe_audio(audio_path):\n",
        "    waveform, sample_rate = torchaudio.load(audio_path)\n",
        "    if sample_rate != 16000:\n",
        "        waveform = torchaudio.transforms.Resample(sample_rate, 16000)(waveform)\n",
        "    inputs = processor(waveform.squeeze().numpy(), return_tensors=\"pt\", sampling_rate=16000).input_values\n",
        "    with torch.no_grad():\n",
        "        logits = wav2vec_model(inputs).logits\n",
        "    predicted_ids = torch.argmax(logits, dim=-1)\n",
        "    transcription = processor.batch_decode(predicted_ids)[0]\n",
        "    return transcription"
      ],
      "metadata": {
        "id": "ng2SBbPzTkkT"
      },
      "execution_count": null,
      "outputs": []
    },
    {
      "cell_type": "code",
      "source": [
        "# Example usage\n",
        "# audio_path = 'path/to/audio.wav'\n",
        "# text = transcribe_audio(audio_path)\n",
        "# print(predict_directed(text))"
      ],
      "metadata": {
        "id": "-kFG8MUdTsy8"
      },
      "execution_count": null,
      "outputs": []
    }
  ]
}